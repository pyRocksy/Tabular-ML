{
 "cells": [
  {
   "cell_type": "markdown",
   "id": "378b2ce5",
   "metadata": {
    "papermill": {
     "duration": 0.018251,
     "end_time": "2023-02-06T01:30:33.068103",
     "exception": false,
     "start_time": "2023-02-06T01:30:33.049852",
     "status": "completed"
    },
    "tags": []
   },
   "source": [
    "### Ames Housing Price Prediction\n"
   ]
  },
  {
   "cell_type": "markdown",
   "id": "ef3fb565",
   "metadata": {
    "papermill": {
     "duration": 0.01354,
     "end_time": "2023-02-06T01:30:33.098515",
     "exception": false,
     "start_time": "2023-02-06T01:30:33.084975",
     "status": "completed"
    },
    "tags": []
   },
   "source": [
    "**Setting the Kaggle environment**"
   ]
  },
  {
   "cell_type": "code",
   "execution_count": 1,
   "id": "b239a72a",
   "metadata": {
    "_cell_guid": "b1076dfc-b9ad-4769-8c92-a6c4dae69d19",
    "_uuid": "8f2839f25d086af736a60e9eeb907d3b93b6e0e5",
    "execution": {
     "iopub.execute_input": "2023-02-06T01:30:33.129603Z",
     "iopub.status.busy": "2023-02-06T01:30:33.128569Z",
     "iopub.status.idle": "2023-02-06T01:30:33.144371Z",
     "shell.execute_reply": "2023-02-06T01:30:33.143107Z"
    },
    "papermill": {
     "duration": 0.035808,
     "end_time": "2023-02-06T01:30:33.148183",
     "exception": false,
     "start_time": "2023-02-06T01:30:33.112375",
     "status": "completed"
    },
    "tags": []
   },
   "outputs": [
    {
     "name": "stdout",
     "output_type": "stream",
     "text": [
      "/kaggle/input/home-data-for-ml-course/sample_submission.csv\n",
      "/kaggle/input/home-data-for-ml-course/sample_submission.csv.gz\n",
      "/kaggle/input/home-data-for-ml-course/train.csv.gz\n",
      "/kaggle/input/home-data-for-ml-course/data_description.txt\n",
      "/kaggle/input/home-data-for-ml-course/test.csv.gz\n",
      "/kaggle/input/home-data-for-ml-course/train.csv\n",
      "/kaggle/input/home-data-for-ml-course/test.csv\n"
     ]
    }
   ],
   "source": [
    "# This Python 3 environment comes with many helpful analytics libraries installed\n",
    "# It is defined by the kaggle/python Docker image: https://github.com/kaggle/docker-python\n",
    "\n",
    "# Input data files are available in the read-only \"../input/\" directory\n",
    "\n",
    "import os\n",
    "for dirname, _, filenames in os.walk('/kaggle/input'):\n",
    "    for filename in filenames:\n",
    "        print(os.path.join(dirname, filename))\n"
   ]
  },
  {
   "cell_type": "markdown",
   "id": "c3b775ce",
   "metadata": {
    "papermill": {
     "duration": 0.014012,
     "end_time": "2023-02-06T01:30:33.177316",
     "exception": false,
     "start_time": "2023-02-06T01:30:33.163304",
     "status": "completed"
    },
    "tags": []
   },
   "source": [
    "**Loading modules and data**"
   ]
  },
  {
   "cell_type": "code",
   "execution_count": 2,
   "id": "c70ddc3f",
   "metadata": {
    "execution": {
     "iopub.execute_input": "2023-02-06T01:30:33.208459Z",
     "iopub.status.busy": "2023-02-06T01:30:33.207697Z",
     "iopub.status.idle": "2023-02-06T01:30:34.875536Z",
     "shell.execute_reply": "2023-02-06T01:30:34.873425Z"
    },
    "papermill": {
     "duration": 1.686473,
     "end_time": "2023-02-06T01:30:34.878156",
     "exception": false,
     "start_time": "2023-02-06T01:30:33.191683",
     "status": "completed"
    },
    "tags": []
   },
   "outputs": [
    {
     "name": "stdout",
     "output_type": "stream",
     "text": [
      "(1460, 81)\n",
      "(1459, 80)\n"
     ]
    }
   ],
   "source": [
    "# import libraries\n",
    "import pandas as pd\n",
    "from sklearn.linear_model import LinearRegression\n",
    "from sklearn.ensemble import RandomForestRegressor\n",
    "from sklearn.model_selection import train_test_split\n",
    "from sklearn.metrics import mean_absolute_error\n",
    "from sklearn.impute import SimpleImputer\n",
    "from sklearn.preprocessing import StandardScaler, OneHotEncoder\n",
    "import numpy as np\n",
    "import matplotlib.pyplot as plt\n",
    "import matplotlib_inline\n",
    "import seaborn as sns\n",
    "import warnings\n",
    "warnings.filterwarnings(\"ignore\")\n",
    "\n",
    "# Load the data\n",
    "train_data = pd.read_csv(\"/kaggle/input/home-data-for-ml-course/train.csv\")\n",
    "# print(type(train_data))\n",
    "df_train = train_data.copy()\n",
    "\n",
    "test_data = pd.read_csv(\"/kaggle/input/home-data-for-ml-course/test.csv\")\n",
    "# print(type(test_data))\n",
    "df_test = test_data.copy()\n",
    "\n",
    "print(df_train.shape)\n",
    "print(df_test.shape)"
   ]
  },
  {
   "cell_type": "markdown",
   "id": "284cacf0",
   "metadata": {
    "papermill": {
     "duration": 0.014681,
     "end_time": "2023-02-06T01:30:34.908685",
     "exception": false,
     "start_time": "2023-02-06T01:30:34.894004",
     "status": "completed"
    },
    "tags": []
   },
   "source": [
    "Since the X_train and df_test are not the same size, I will drop one X_train row that has the most missing value count. "
   ]
  },
  {
   "cell_type": "code",
   "execution_count": 3,
   "id": "34e62eca",
   "metadata": {
    "execution": {
     "iopub.execute_input": "2023-02-06T01:30:34.939804Z",
     "iopub.status.busy": "2023-02-06T01:30:34.939323Z",
     "iopub.status.idle": "2023-02-06T01:30:34.970721Z",
     "shell.execute_reply": "2023-02-06T01:30:34.969349Z"
    },
    "papermill": {
     "duration": 0.050786,
     "end_time": "2023-02-06T01:30:34.974214",
     "exception": false,
     "start_time": "2023-02-06T01:30:34.923428",
     "status": "completed"
    },
    "tags": []
   },
   "outputs": [],
   "source": [
    "# Calculate the number of missing values in each row\n",
    "missing_values_per_row = df_train.isna().sum(axis=1)\n",
    "# print(missing_values_per_row)\n",
    "\n",
    "# Add the missing values count as a new column\n",
    "df_train['missing_count'] = missing_values_per_row\n",
    "# X_train['missing_count']\n",
    "\n",
    "# # Sort the DataFrame by the missing count column\n",
    "df_train.sort_values(by='missing_count', ascending=False, inplace=True)\n",
    "\n",
    "# Drop the row with the most missing values\n",
    "df_train.drop(df_train.index[0], axis=0, inplace=True)\n",
    "df_train.drop('missing_count', axis=1, inplace=True)"
   ]
  },
  {
   "cell_type": "markdown",
   "id": "cc7cb96b",
   "metadata": {
    "papermill": {
     "duration": 0.014078,
     "end_time": "2023-02-06T01:30:35.002351",
     "exception": false,
     "start_time": "2023-02-06T01:30:34.988273",
     "status": "completed"
    },
    "tags": []
   },
   "source": [
    "### 1. Preprocessing training and testing datasets"
   ]
  },
  {
   "cell_type": "markdown",
   "id": "a74bb146",
   "metadata": {
    "papermill": {
     "duration": 0.01381,
     "end_time": "2023-02-06T01:30:35.030421",
     "exception": false,
     "start_time": "2023-02-06T01:30:35.016611",
     "status": "completed"
    },
    "tags": []
   },
   "source": [
    "**Looking at non-null values**"
   ]
  },
  {
   "cell_type": "code",
   "execution_count": 4,
   "id": "986cab34",
   "metadata": {
    "execution": {
     "iopub.execute_input": "2023-02-06T01:30:35.061599Z",
     "iopub.status.busy": "2023-02-06T01:30:35.061162Z",
     "iopub.status.idle": "2023-02-06T01:30:35.089637Z",
     "shell.execute_reply": "2023-02-06T01:30:35.088429Z"
    },
    "papermill": {
     "duration": 0.04905,
     "end_time": "2023-02-06T01:30:35.094023",
     "exception": false,
     "start_time": "2023-02-06T01:30:35.044973",
     "status": "completed"
    },
    "tags": []
   },
   "outputs": [
    {
     "name": "stdout",
     "output_type": "stream",
     "text": [
      "<class 'pandas.core.frame.DataFrame'>\n",
      "Int64Index: 1459 entries, 1011 to 1328\n",
      "Data columns (total 81 columns):\n",
      " #   Column         Non-Null Count  Dtype  \n",
      "---  ------         --------------  -----  \n",
      " 0   Id             1459 non-null   int64  \n",
      " 1   MSSubClass     1459 non-null   int64  \n",
      " 2   MSZoning       1459 non-null   object \n",
      " 3   LotFrontage    1200 non-null   float64\n",
      " 4   LotArea        1459 non-null   int64  \n",
      " 5   Street         1459 non-null   object \n",
      " 6   Alley          91 non-null     object \n",
      " 7   LotShape       1459 non-null   object \n",
      " 8   LandContour    1459 non-null   object \n",
      " 9   Utilities      1459 non-null   object \n",
      " 10  LotConfig      1459 non-null   object \n",
      " 11  LandSlope      1459 non-null   object \n",
      " 12  Neighborhood   1459 non-null   object \n",
      " 13  Condition1     1459 non-null   object \n",
      " 14  Condition2     1459 non-null   object \n",
      " 15  BldgType       1459 non-null   object \n",
      " 16  HouseStyle     1459 non-null   object \n",
      " 17  OverallQual    1459 non-null   int64  \n",
      " 18  OverallCond    1459 non-null   int64  \n",
      " 19  YearBuilt      1459 non-null   int64  \n",
      " 20  YearRemodAdd   1459 non-null   int64  \n",
      " 21  RoofStyle      1459 non-null   object \n",
      " 22  RoofMatl       1459 non-null   object \n",
      " 23  Exterior1st    1459 non-null   object \n",
      " 24  Exterior2nd    1459 non-null   object \n",
      " 25  MasVnrType     1451 non-null   object \n",
      " 26  MasVnrArea     1451 non-null   float64\n",
      " 27  ExterQual      1459 non-null   object \n",
      " 28  ExterCond      1459 non-null   object \n",
      " 29  Foundation     1459 non-null   object \n",
      " 30  BsmtQual       1423 non-null   object \n",
      " 31  BsmtCond       1423 non-null   object \n",
      " 32  BsmtExposure   1422 non-null   object \n",
      " 33  BsmtFinType1   1423 non-null   object \n",
      " 34  BsmtFinSF1     1459 non-null   int64  \n",
      " 35  BsmtFinType2   1422 non-null   object \n",
      " 36  BsmtFinSF2     1459 non-null   int64  \n",
      " 37  BsmtUnfSF      1459 non-null   int64  \n",
      " 38  TotalBsmtSF    1459 non-null   int64  \n",
      " 39  Heating        1459 non-null   object \n",
      " 40  HeatingQC      1459 non-null   object \n",
      " 41  CentralAir     1459 non-null   object \n",
      " 42  Electrical     1458 non-null   object \n",
      " 43  1stFlrSF       1459 non-null   int64  \n",
      " 44  2ndFlrSF       1459 non-null   int64  \n",
      " 45  LowQualFinSF   1459 non-null   int64  \n",
      " 46  GrLivArea      1459 non-null   int64  \n",
      " 47  BsmtFullBath   1459 non-null   int64  \n",
      " 48  BsmtHalfBath   1459 non-null   int64  \n",
      " 49  FullBath       1459 non-null   int64  \n",
      " 50  HalfBath       1459 non-null   int64  \n",
      " 51  BedroomAbvGr   1459 non-null   int64  \n",
      " 52  KitchenAbvGr   1459 non-null   int64  \n",
      " 53  KitchenQual    1459 non-null   object \n",
      " 54  TotRmsAbvGrd   1459 non-null   int64  \n",
      " 55  Functional     1459 non-null   object \n",
      " 56  Fireplaces     1459 non-null   int64  \n",
      " 57  FireplaceQu    770 non-null    object \n",
      " 58  GarageType     1379 non-null   object \n",
      " 59  GarageYrBlt    1379 non-null   float64\n",
      " 60  GarageFinish   1379 non-null   object \n",
      " 61  GarageCars     1459 non-null   int64  \n",
      " 62  GarageArea     1459 non-null   int64  \n",
      " 63  GarageQual     1379 non-null   object \n",
      " 64  GarageCond     1379 non-null   object \n",
      " 65  PavedDrive     1459 non-null   object \n",
      " 66  WoodDeckSF     1459 non-null   int64  \n",
      " 67  OpenPorchSF    1459 non-null   int64  \n",
      " 68  EnclosedPorch  1459 non-null   int64  \n",
      " 69  3SsnPorch      1459 non-null   int64  \n",
      " 70  ScreenPorch    1459 non-null   int64  \n",
      " 71  PoolArea       1459 non-null   int64  \n",
      " 72  PoolQC         7 non-null      object \n",
      " 73  Fence          281 non-null    object \n",
      " 74  MiscFeature    54 non-null     object \n",
      " 75  MiscVal        1459 non-null   int64  \n",
      " 76  MoSold         1459 non-null   int64  \n",
      " 77  YrSold         1459 non-null   int64  \n",
      " 78  SaleType       1459 non-null   object \n",
      " 79  SaleCondition  1459 non-null   object \n",
      " 80  SalePrice      1459 non-null   int64  \n",
      "dtypes: float64(3), int64(35), object(43)\n",
      "memory usage: 934.7+ KB\n"
     ]
    }
   ],
   "source": [
    "df_train.info()"
   ]
  },
  {
   "cell_type": "code",
   "execution_count": 5,
   "id": "8af9a018",
   "metadata": {
    "execution": {
     "iopub.execute_input": "2023-02-06T01:30:35.126488Z",
     "iopub.status.busy": "2023-02-06T01:30:35.125261Z",
     "iopub.status.idle": "2023-02-06T01:30:35.147498Z",
     "shell.execute_reply": "2023-02-06T01:30:35.145776Z"
    },
    "papermill": {
     "duration": 0.041619,
     "end_time": "2023-02-06T01:30:35.151199",
     "exception": false,
     "start_time": "2023-02-06T01:30:35.109580",
     "status": "completed"
    },
    "tags": []
   },
   "outputs": [
    {
     "name": "stdout",
     "output_type": "stream",
     "text": [
      "<class 'pandas.core.frame.DataFrame'>\n",
      "RangeIndex: 1459 entries, 0 to 1458\n",
      "Data columns (total 80 columns):\n",
      " #   Column         Non-Null Count  Dtype  \n",
      "---  ------         --------------  -----  \n",
      " 0   Id             1459 non-null   int64  \n",
      " 1   MSSubClass     1459 non-null   int64  \n",
      " 2   MSZoning       1455 non-null   object \n",
      " 3   LotFrontage    1232 non-null   float64\n",
      " 4   LotArea        1459 non-null   int64  \n",
      " 5   Street         1459 non-null   object \n",
      " 6   Alley          107 non-null    object \n",
      " 7   LotShape       1459 non-null   object \n",
      " 8   LandContour    1459 non-null   object \n",
      " 9   Utilities      1457 non-null   object \n",
      " 10  LotConfig      1459 non-null   object \n",
      " 11  LandSlope      1459 non-null   object \n",
      " 12  Neighborhood   1459 non-null   object \n",
      " 13  Condition1     1459 non-null   object \n",
      " 14  Condition2     1459 non-null   object \n",
      " 15  BldgType       1459 non-null   object \n",
      " 16  HouseStyle     1459 non-null   object \n",
      " 17  OverallQual    1459 non-null   int64  \n",
      " 18  OverallCond    1459 non-null   int64  \n",
      " 19  YearBuilt      1459 non-null   int64  \n",
      " 20  YearRemodAdd   1459 non-null   int64  \n",
      " 21  RoofStyle      1459 non-null   object \n",
      " 22  RoofMatl       1459 non-null   object \n",
      " 23  Exterior1st    1458 non-null   object \n",
      " 24  Exterior2nd    1458 non-null   object \n",
      " 25  MasVnrType     1443 non-null   object \n",
      " 26  MasVnrArea     1444 non-null   float64\n",
      " 27  ExterQual      1459 non-null   object \n",
      " 28  ExterCond      1459 non-null   object \n",
      " 29  Foundation     1459 non-null   object \n",
      " 30  BsmtQual       1415 non-null   object \n",
      " 31  BsmtCond       1414 non-null   object \n",
      " 32  BsmtExposure   1415 non-null   object \n",
      " 33  BsmtFinType1   1417 non-null   object \n",
      " 34  BsmtFinSF1     1458 non-null   float64\n",
      " 35  BsmtFinType2   1417 non-null   object \n",
      " 36  BsmtFinSF2     1458 non-null   float64\n",
      " 37  BsmtUnfSF      1458 non-null   float64\n",
      " 38  TotalBsmtSF    1458 non-null   float64\n",
      " 39  Heating        1459 non-null   object \n",
      " 40  HeatingQC      1459 non-null   object \n",
      " 41  CentralAir     1459 non-null   object \n",
      " 42  Electrical     1459 non-null   object \n",
      " 43  1stFlrSF       1459 non-null   int64  \n",
      " 44  2ndFlrSF       1459 non-null   int64  \n",
      " 45  LowQualFinSF   1459 non-null   int64  \n",
      " 46  GrLivArea      1459 non-null   int64  \n",
      " 47  BsmtFullBath   1457 non-null   float64\n",
      " 48  BsmtHalfBath   1457 non-null   float64\n",
      " 49  FullBath       1459 non-null   int64  \n",
      " 50  HalfBath       1459 non-null   int64  \n",
      " 51  BedroomAbvGr   1459 non-null   int64  \n",
      " 52  KitchenAbvGr   1459 non-null   int64  \n",
      " 53  KitchenQual    1458 non-null   object \n",
      " 54  TotRmsAbvGrd   1459 non-null   int64  \n",
      " 55  Functional     1457 non-null   object \n",
      " 56  Fireplaces     1459 non-null   int64  \n",
      " 57  FireplaceQu    729 non-null    object \n",
      " 58  GarageType     1383 non-null   object \n",
      " 59  GarageYrBlt    1381 non-null   float64\n",
      " 60  GarageFinish   1381 non-null   object \n",
      " 61  GarageCars     1458 non-null   float64\n",
      " 62  GarageArea     1458 non-null   float64\n",
      " 63  GarageQual     1381 non-null   object \n",
      " 64  GarageCond     1381 non-null   object \n",
      " 65  PavedDrive     1459 non-null   object \n",
      " 66  WoodDeckSF     1459 non-null   int64  \n",
      " 67  OpenPorchSF    1459 non-null   int64  \n",
      " 68  EnclosedPorch  1459 non-null   int64  \n",
      " 69  3SsnPorch      1459 non-null   int64  \n",
      " 70  ScreenPorch    1459 non-null   int64  \n",
      " 71  PoolArea       1459 non-null   int64  \n",
      " 72  PoolQC         3 non-null      object \n",
      " 73  Fence          290 non-null    object \n",
      " 74  MiscFeature    51 non-null     object \n",
      " 75  MiscVal        1459 non-null   int64  \n",
      " 76  MoSold         1459 non-null   int64  \n",
      " 77  YrSold         1459 non-null   int64  \n",
      " 78  SaleType       1458 non-null   object \n",
      " 79  SaleCondition  1459 non-null   object \n",
      "dtypes: float64(11), int64(26), object(43)\n",
      "memory usage: 912.0+ KB\n"
     ]
    }
   ],
   "source": [
    "df_test.info()"
   ]
  },
  {
   "cell_type": "markdown",
   "id": "4323df96",
   "metadata": {
    "papermill": {
     "duration": 0.014147,
     "end_time": "2023-02-06T01:30:35.179845",
     "exception": false,
     "start_time": "2023-02-06T01:30:35.165698",
     "status": "completed"
    },
    "tags": []
   },
   "source": [
    "**Looking at columns with missing values**"
   ]
  },
  {
   "cell_type": "code",
   "execution_count": 6,
   "id": "bf987323",
   "metadata": {
    "execution": {
     "iopub.execute_input": "2023-02-06T01:30:35.210953Z",
     "iopub.status.busy": "2023-02-06T01:30:35.210281Z",
     "iopub.status.idle": "2023-02-06T01:30:35.242280Z",
     "shell.execute_reply": "2023-02-06T01:30:35.240973Z"
    },
    "papermill": {
     "duration": 0.050719,
     "end_time": "2023-02-06T01:30:35.245098",
     "exception": false,
     "start_time": "2023-02-06T01:30:35.194379",
     "status": "completed"
    },
    "tags": []
   },
   "outputs": [
    {
     "name": "stdout",
     "output_type": "stream",
     "text": [
      "              df_train  X-test Data Type\n",
      "PoolQC            1452    1456    object\n",
      "MiscFeature       1405    1408    object\n",
      "Alley             1368    1352    object\n",
      "Fence             1178    1169    object\n",
      "FireplaceQu        689     730    object\n",
      "LotFrontage        259     227   float64\n",
      "GarageType          80      76    object\n",
      "GarageYrBlt         80      78   float64\n",
      "GarageCond          80      78    object\n",
      "GarageQual          80      78    object\n",
      "GarageFinish        80      78    object\n",
      "BsmtFinType2        37      42    object\n",
      "BsmtExposure        37      44    object\n",
      "BsmtCond            36      45    object\n",
      "BsmtFinType1        36      42    object\n",
      "BsmtQual            36      44    object\n",
      "MasVnrArea           8      15   float64\n",
      "MasVnrType           8      16    object\n",
      "Electrical           1       0    object\n",
      "Exterior2nd          0       1    object\n",
      "BsmtUnfSF            0       1     int64\n",
      "Exterior1st          0       1    object\n",
      "SaleType             0       1    object\n",
      "Functional           0       2    object\n",
      "BsmtFullBath         0       2     int64\n",
      "TotalBsmtSF          0       1     int64\n",
      "KitchenQual          0       1    object\n",
      "GarageCars           0       1     int64\n",
      "Utilities            0       2    object\n",
      "GarageArea           0       1     int64\n",
      "BsmtHalfBath         0       2     int64\n",
      "BsmtFinSF1           0       1     int64\n",
      "MSZoning             0       4    object\n",
      "BsmtFinSF2           0       1     int64\n"
     ]
    }
   ],
   "source": [
    "missing_value_cols_train = df_train.columns[df_train.isnull().sum() > 0]\n",
    "missing_value_cols_test = df_test.columns[df_test.isnull().sum() > 0]\n",
    "\n",
    "common_cols = list(set(missing_value_cols_train) | set(missing_value_cols_test))\n",
    "\n",
    "df_missing = pd.DataFrame({'df_train': df_train[common_cols].isnull().sum(),\n",
    "                 'X-test': df_test[common_cols].isnull().sum(),\n",
    "                 'Data Type': df_train[common_cols].dtypes})\n",
    "\n",
    "print(df_missing.sort_values(\"df_train\", ascending=False))"
   ]
  },
  {
   "cell_type": "markdown",
   "id": "277f9db1",
   "metadata": {
    "papermill": {
     "duration": 0.014187,
     "end_time": "2023-02-06T01:30:35.274309",
     "exception": false,
     "start_time": "2023-02-06T01:30:35.260122",
     "status": "completed"
    },
    "tags": []
   },
   "source": [
    "**Assesing numerical columns with missing values**\n",
    "* LotFrontage - We will replace missing values by mean.       259     227   float64\n",
    "* GarageYrBlt  - We will replace missing values by mode.      81      78   float64\n",
    "* MasVnrArea   - We will replace missing values by mean.        8      15   float64\n",
    "* GarageCars   - We will replace missing values by median.        0       1     int64\n",
    "* BsmtFinSF2   - We will replace missing values by median.        0       1     int64\n",
    "* BsmtFinSF1   - We will replace missing values by median.         0       1     int64\n",
    "* BsmtUnfSF    - We will replace missing values by median.        0       1     int64\n",
    "* BsmtHalfBath - We will replace missing values by median.        0       2     int64\n",
    "* TotalBsmtSF  - We will replace missing values by median.        0       1     int64\n",
    "* GarageArea   - We will replace missing values by mean.        0       1     int64\n",
    "* BsmtFullBath - We will replace missing values by median.        0       2     int64\n",
    "\n",
    "**Assesing categorical columns with missing values**\n",
    "* PoolQC      - we will drop this column.     1453    1456    object\n",
    "* MiscFeature - we will drop this column.      1406    1408    object\n",
    "* Alley       - we will drop this column.     1369    1352    object\n",
    "* Fence       - we will drop this column.      1179    1169    object\n",
    "* FireplaceQu - We will replace missing values by mode.       690     730    object\n",
    "* GarageQual  - We will replace missing values by mode.        81      78    object\n",
    "* GarageType  - We will replace missing values by mode.       81      76     object\n",
    "* GarageCond  - We will replace missing values by mode.       81      78     object\n",
    "* GarageFinish - We will replace missing values by mode.        81      78   object\n",
    "* BsmtFinType2 - We will replace missing values by mode.      38      42     object\n",
    "* BsmtExposure - We will replace missing values by mode.      38      44     object\n",
    "* BsmtFinType1 - We will replace missing values by mode.      37      42     object\n",
    "* BsmtCond     - We will replace missing values by mode.       37      45    object\n",
    "* BsmtQual     - We will replace missing values by mode.       37      44    object\n",
    "* MasVnrType   - We will replace missing values by mode.        8      16    object\n",
    "* Electrical   - We will replace missing values by mode.        1       0    object\n",
    "* Utilities    - We will replace missing values by mode.        0       2    object\n",
    "* Functional   - We will replace missing values by mode.        0       2    object\n",
    "* SaleType     - We will replace missing values by mode.        0       1    object\n",
    "* MSZoning     - We will replace missing values by mode.        0       4    object\n",
    "* Exterior2nd  - We will replace missing values by mode.        0       1    object\n",
    "* Exterior1st  - We will replace missing values by mode.        0       1    object\n",
    "* KitchenQual  - We will replace missing values by mode.        0       1    object\n",
    "\n",
    "\n"
   ]
  },
  {
   "cell_type": "markdown",
   "id": "eb0bf7d6",
   "metadata": {
    "papermill": {
     "duration": 0.014359,
     "end_time": "2023-02-06T01:30:35.303527",
     "exception": false,
     "start_time": "2023-02-06T01:30:35.289168",
     "status": "completed"
    },
    "tags": []
   },
   "source": [
    "**Dropping Columns**"
   ]
  },
  {
   "cell_type": "code",
   "execution_count": 7,
   "id": "c8bc839b",
   "metadata": {
    "execution": {
     "iopub.execute_input": "2023-02-06T01:30:35.334440Z",
     "iopub.status.busy": "2023-02-06T01:30:35.334026Z",
     "iopub.status.idle": "2023-02-06T01:30:35.345299Z",
     "shell.execute_reply": "2023-02-06T01:30:35.344154Z"
    },
    "papermill": {
     "duration": 0.029453,
     "end_time": "2023-02-06T01:30:35.347659",
     "exception": false,
     "start_time": "2023-02-06T01:30:35.318206",
     "status": "completed"
    },
    "tags": []
   },
   "outputs": [
    {
     "name": "stdout",
     "output_type": "stream",
     "text": [
      "76\n",
      "75\n"
     ]
    }
   ],
   "source": [
    "df_train.drop(['Id', 'PoolQC', 'MiscFeature', 'Alley', 'Fence'], axis=1, inplace=True)\n",
    "print(len(df_train.columns))\n",
    "\n",
    "df_test.drop(['Id', 'PoolQC', 'MiscFeature', 'Alley', 'Fence'], axis=1, inplace=True)\n",
    "print(len(df_test.columns))"
   ]
  },
  {
   "cell_type": "code",
   "execution_count": 8,
   "id": "9c14a2a5",
   "metadata": {
    "execution": {
     "iopub.execute_input": "2023-02-06T01:30:35.379329Z",
     "iopub.status.busy": "2023-02-06T01:30:35.378862Z",
     "iopub.status.idle": "2023-02-06T01:30:35.384894Z",
     "shell.execute_reply": "2023-02-06T01:30:35.383663Z"
    },
    "papermill": {
     "duration": 0.024949,
     "end_time": "2023-02-06T01:30:35.387385",
     "exception": false,
     "start_time": "2023-02-06T01:30:35.362436",
     "status": "completed"
    },
    "tags": []
   },
   "outputs": [
    {
     "name": "stdout",
     "output_type": "stream",
     "text": [
      "(1459, 76)\n",
      "(1459, 75)\n"
     ]
    }
   ],
   "source": [
    "print(df_train.shape)\n",
    "print(df_test.shape)"
   ]
  },
  {
   "cell_type": "markdown",
   "id": "5a165c59",
   "metadata": {
    "papermill": {
     "duration": 0.014388,
     "end_time": "2023-02-06T01:30:35.416865",
     "exception": false,
     "start_time": "2023-02-06T01:30:35.402477",
     "status": "completed"
    },
    "tags": []
   },
   "source": [
    "**Preprocessing categorical columns**"
   ]
  },
  {
   "cell_type": "code",
   "execution_count": 9,
   "id": "39cfef92",
   "metadata": {
    "execution": {
     "iopub.execute_input": "2023-02-06T01:30:35.449090Z",
     "iopub.status.busy": "2023-02-06T01:30:35.447814Z",
     "iopub.status.idle": "2023-02-06T01:30:35.458631Z",
     "shell.execute_reply": "2023-02-06T01:30:35.456949Z"
    },
    "papermill": {
     "duration": 0.029885,
     "end_time": "2023-02-06T01:30:35.461440",
     "exception": false,
     "start_time": "2023-02-06T01:30:35.431555",
     "status": "completed"
    },
    "tags": []
   },
   "outputs": [
    {
     "name": "stdout",
     "output_type": "stream",
     "text": [
      "              df_train  X-test Data Type\n",
      "PoolQC            1452    1456    object\n",
      "MiscFeature       1405    1408    object\n",
      "Alley             1368    1352    object\n",
      "Fence             1178    1169    object\n",
      "FireplaceQu        689     730    object\n",
      "GarageType          80      76    object\n",
      "GarageCond          80      78    object\n",
      "GarageQual          80      78    object\n",
      "GarageFinish        80      78    object\n",
      "BsmtFinType2        37      42    object\n",
      "BsmtExposure        37      44    object\n",
      "BsmtCond            36      45    object\n",
      "BsmtFinType1        36      42    object\n",
      "BsmtQual            36      44    object\n",
      "MasVnrType           8      16    object\n",
      "Electrical           1       0    object\n",
      "KitchenQual          0       1    object\n",
      "Functional           0       2    object\n",
      "SaleType             0       1    object\n",
      "Exterior1st          0       1    object\n",
      "Exterior2nd          0       1    object\n",
      "MSZoning             0       4    object\n",
      "Utilities            0       2    object\n"
     ]
    }
   ],
   "source": [
    "# identify categorical columns\n",
    "cat_cols_df_missing = df_missing[df_missing['Data Type']=='object'].sort_values('df_train', ascending=False)\n",
    "print(cat_cols_df_missing)"
   ]
  },
  {
   "cell_type": "markdown",
   "id": "33b865f0",
   "metadata": {
    "papermill": {
     "duration": 0.01509,
     "end_time": "2023-02-06T01:30:35.492045",
     "exception": false,
     "start_time": "2023-02-06T01:30:35.476955",
     "status": "completed"
    },
    "tags": []
   },
   "source": [
    "Iterate through catagorical columns and replace missing values with \"mode\""
   ]
  },
  {
   "cell_type": "code",
   "execution_count": 10,
   "id": "faec0dd5",
   "metadata": {
    "execution": {
     "iopub.execute_input": "2023-02-06T01:30:35.523730Z",
     "iopub.status.busy": "2023-02-06T01:30:35.522999Z",
     "iopub.status.idle": "2023-02-06T01:30:35.553925Z",
     "shell.execute_reply": "2023-02-06T01:30:35.552929Z"
    },
    "papermill": {
     "duration": 0.049547,
     "end_time": "2023-02-06T01:30:35.556394",
     "exception": false,
     "start_time": "2023-02-06T01:30:35.506847",
     "status": "completed"
    },
    "tags": []
   },
   "outputs": [],
   "source": [
    "for col in list(cat_cols_df_missing.index):\n",
    "    if col in list(df_train.columns):\n",
    "        df_train[col].fillna(df_train[col].mode()[0], inplace=True)\n",
    "        df_test[col].fillna(df_test[col].mode()[0], inplace=True)\n",
    "    else:\n",
    "        continue"
   ]
  },
  {
   "cell_type": "markdown",
   "id": "1ff2ce6a",
   "metadata": {
    "papermill": {
     "duration": 0.01476,
     "end_time": "2023-02-06T01:30:35.586066",
     "exception": false,
     "start_time": "2023-02-06T01:30:35.571306",
     "status": "completed"
    },
    "tags": []
   },
   "source": [
    "**Since there are mismatches in the categories for the following columns, we'll just drop these categories.**\n",
    "- Affected colums: Condition2, Electrical, Exterior1st, Exterior2nd, GarageQual, Heating, HouseStyle, RoofMatl, Utilities\n",
    "\n",
    "Let's check the affected columns first."
   ]
  },
  {
   "cell_type": "code",
   "execution_count": 11,
   "id": "05637553",
   "metadata": {
    "execution": {
     "iopub.execute_input": "2023-02-06T01:30:35.618750Z",
     "iopub.status.busy": "2023-02-06T01:30:35.617993Z",
     "iopub.status.idle": "2023-02-06T01:30:35.662143Z",
     "shell.execute_reply": "2023-02-06T01:30:35.660606Z"
    },
    "papermill": {
     "duration": 0.063158,
     "end_time": "2023-02-06T01:30:35.664707",
     "exception": false,
     "start_time": "2023-02-06T01:30:35.601549",
     "status": "completed"
    },
    "tags": []
   },
   "outputs": [
    {
     "name": "stdout",
     "output_type": "stream",
     "text": [
      "Condition2\n",
      "['Artery', 'Feedr', 'Norm', 'PosA', 'PosN', 'RRAe', 'RRAn', 'RRNn']\n",
      "['Artery', 'Feedr', 'Norm', 'PosA', 'PosN'] \n",
      "\n",
      "Electrical\n",
      "['FuseA', 'FuseF', 'FuseP', 'Mix', 'SBrkr']\n",
      "['FuseA', 'FuseF', 'FuseP', 'SBrkr'] \n",
      "\n",
      "Exterior1st\n",
      "['AsbShng', 'AsphShn', 'BrkComm', 'BrkFace', 'CBlock', 'CemntBd', 'HdBoard', 'ImStucc', 'MetalSd', 'Plywood', 'Stone', 'Stucco', 'VinylSd', 'Wd Sdng', 'WdShing']\n",
      "['AsbShng', 'AsphShn', 'BrkComm', 'BrkFace', 'CBlock', 'CemntBd', 'HdBoard', 'MetalSd', 'Plywood', 'Stucco', 'VinylSd', 'Wd Sdng', 'WdShing'] \n",
      "\n",
      "Exterior2nd\n",
      "['AsbShng', 'AsphShn', 'Brk Cmn', 'BrkFace', 'CBlock', 'CmentBd', 'HdBoard', 'ImStucc', 'MetalSd', 'Other', 'Plywood', 'Stone', 'Stucco', 'VinylSd', 'Wd Sdng', 'Wd Shng']\n",
      "['AsbShng', 'AsphShn', 'Brk Cmn', 'BrkFace', 'CBlock', 'CmentBd', 'HdBoard', 'ImStucc', 'MetalSd', 'Plywood', 'Stone', 'Stucco', 'VinylSd', 'Wd Sdng', 'Wd Shng'] \n",
      "\n",
      "GarageQual\n",
      "['Ex', 'Fa', 'Gd', 'Po', 'TA']\n",
      "['Fa', 'Gd', 'Po', 'TA'] \n",
      "\n",
      "Heating\n",
      "['Floor', 'GasA', 'GasW', 'Grav', 'OthW', 'Wall']\n",
      "['GasA', 'GasW', 'Grav', 'Wall'] \n",
      "\n",
      "HouseStyle\n",
      "['1.5Fin', '1.5Unf', '1Story', '2.5Fin', '2.5Unf', '2Story', 'SFoyer', 'SLvl']\n",
      "['1.5Fin', '1.5Unf', '1Story', '2.5Unf', '2Story', 'SFoyer', 'SLvl'] \n",
      "\n",
      "RoofMatl\n",
      "['ClyTile', 'CompShg', 'Membran', 'Metal', 'Roll', 'Tar&Grv', 'WdShake', 'WdShngl']\n",
      "['CompShg', 'Tar&Grv', 'WdShake', 'WdShngl'] \n",
      "\n",
      "Utilities\n",
      "['AllPub', 'NoSeWa']\n",
      "['AllPub'] \n",
      "\n"
     ]
    }
   ],
   "source": [
    "cols_to_check = [\"Condition2\", \"Electrical\", \"Exterior1st\", \"Exterior2nd\",\"GarageQual\",\n",
    "                 \"Heating\", \"HouseStyle\", \"RoofMatl\", \"Utilities\"]\n",
    "\n",
    "for col in cols_to_check:\n",
    "    print(col)\n",
    "#     print(df_train[col].isnull().sum())\n",
    "    df_train_obj = df_train.select_dtypes(include='object')\n",
    "    df_test_obj = df_test.select_dtypes(include='object')\n",
    "    print(sorted(df_train_obj[col].unique()))\n",
    "    print(sorted(df_test_obj[col].unique()),\"\\n\")"
   ]
  },
  {
   "cell_type": "markdown",
   "id": "3f644cd0",
   "metadata": {
    "papermill": {
     "duration": 0.014633,
     "end_time": "2023-02-06T01:30:35.694577",
     "exception": false,
     "start_time": "2023-02-06T01:30:35.679944",
     "status": "completed"
    },
    "tags": []
   },
   "source": [
    "**Dropping the affected columns (from above step)**"
   ]
  },
  {
   "cell_type": "code",
   "execution_count": 12,
   "id": "ba7def83",
   "metadata": {
    "execution": {
     "iopub.execute_input": "2023-02-06T01:30:35.727101Z",
     "iopub.status.busy": "2023-02-06T01:30:35.725734Z",
     "iopub.status.idle": "2023-02-06T01:30:35.756062Z",
     "shell.execute_reply": "2023-02-06T01:30:35.755047Z"
    },
    "papermill": {
     "duration": 0.04964,
     "end_time": "2023-02-06T01:30:35.759176",
     "exception": false,
     "start_time": "2023-02-06T01:30:35.709536",
     "status": "completed"
    },
    "tags": []
   },
   "outputs": [],
   "source": [
    "for col in cols_to_check:\n",
    "    df_train.drop(col, axis=1, inplace=True)\n",
    "    df_test.drop(col, axis=1, inplace=True)"
   ]
  },
  {
   "cell_type": "markdown",
   "id": "9ff5cfa7",
   "metadata": {
    "papermill": {
     "duration": 0.014574,
     "end_time": "2023-02-06T01:30:35.788753",
     "exception": false,
     "start_time": "2023-02-06T01:30:35.774179",
     "status": "completed"
    },
    "tags": []
   },
   "source": [
    "**Dropping observation from  `df_train` that is not present in `df_test`**\n",
    "\n",
    "* This code is checking for the categorical columns in the df_train data and comparing their unique values with the unique values in the df_test data.\n",
    "* For each column, the code checks if the difference between the sorted sets of unique values in df_train and df_test is equal to zero. If so, it continues to the next column.\n",
    "* If the difference is not equal to zero, it calculates the difference between the two sets and uses it to remove the rows in df_train that have values belonging to the calculated difference set."
   ]
  },
  {
   "cell_type": "code",
   "execution_count": 13,
   "id": "bb57b93a",
   "metadata": {
    "execution": {
     "iopub.execute_input": "2023-02-06T01:30:35.820530Z",
     "iopub.status.busy": "2023-02-06T01:30:35.820122Z",
     "iopub.status.idle": "2023-02-06T01:30:35.856240Z",
     "shell.execute_reply": "2023-02-06T01:30:35.854968Z"
    },
    "papermill": {
     "duration": 0.055611,
     "end_time": "2023-02-06T01:30:35.859342",
     "exception": false,
     "start_time": "2023-02-06T01:30:35.803731",
     "status": "completed"
    },
    "tags": []
   },
   "outputs": [
    {
     "data": {
      "text/html": [
       "<div>\n",
       "<style scoped>\n",
       "    .dataframe tbody tr th:only-of-type {\n",
       "        vertical-align: middle;\n",
       "    }\n",
       "\n",
       "    .dataframe tbody tr th {\n",
       "        vertical-align: top;\n",
       "    }\n",
       "\n",
       "    .dataframe thead th {\n",
       "        text-align: right;\n",
       "    }\n",
       "</style>\n",
       "<table border=\"1\" class=\"dataframe\">\n",
       "  <thead>\n",
       "    <tr style=\"text-align: right;\">\n",
       "      <th></th>\n",
       "      <th>Train</th>\n",
       "      <th>Test</th>\n",
       "    </tr>\n",
       "  </thead>\n",
       "  <tbody>\n",
       "    <tr>\n",
       "      <th>Neighborhood</th>\n",
       "      <td>25</td>\n",
       "      <td>25</td>\n",
       "    </tr>\n",
       "    <tr>\n",
       "      <th>SaleType</th>\n",
       "      <td>9</td>\n",
       "      <td>9</td>\n",
       "    </tr>\n",
       "    <tr>\n",
       "      <th>Condition1</th>\n",
       "      <td>9</td>\n",
       "      <td>9</td>\n",
       "    </tr>\n",
       "    <tr>\n",
       "      <th>Functional</th>\n",
       "      <td>7</td>\n",
       "      <td>7</td>\n",
       "    </tr>\n",
       "    <tr>\n",
       "      <th>SaleCondition</th>\n",
       "      <td>6</td>\n",
       "      <td>6</td>\n",
       "    </tr>\n",
       "    <tr>\n",
       "      <th>Foundation</th>\n",
       "      <td>6</td>\n",
       "      <td>6</td>\n",
       "    </tr>\n",
       "    <tr>\n",
       "      <th>GarageType</th>\n",
       "      <td>6</td>\n",
       "      <td>6</td>\n",
       "    </tr>\n",
       "    <tr>\n",
       "      <th>RoofStyle</th>\n",
       "      <td>6</td>\n",
       "      <td>6</td>\n",
       "    </tr>\n",
       "    <tr>\n",
       "      <th>BsmtFinType2</th>\n",
       "      <td>6</td>\n",
       "      <td>6</td>\n",
       "    </tr>\n",
       "    <tr>\n",
       "      <th>BsmtFinType1</th>\n",
       "      <td>6</td>\n",
       "      <td>6</td>\n",
       "    </tr>\n",
       "    <tr>\n",
       "      <th>GarageCond</th>\n",
       "      <td>5</td>\n",
       "      <td>5</td>\n",
       "    </tr>\n",
       "    <tr>\n",
       "      <th>FireplaceQu</th>\n",
       "      <td>5</td>\n",
       "      <td>5</td>\n",
       "    </tr>\n",
       "    <tr>\n",
       "      <th>HeatingQC</th>\n",
       "      <td>5</td>\n",
       "      <td>5</td>\n",
       "    </tr>\n",
       "    <tr>\n",
       "      <th>MSZoning</th>\n",
       "      <td>5</td>\n",
       "      <td>5</td>\n",
       "    </tr>\n",
       "    <tr>\n",
       "      <th>ExterCond</th>\n",
       "      <td>5</td>\n",
       "      <td>5</td>\n",
       "    </tr>\n",
       "    <tr>\n",
       "      <th>BldgType</th>\n",
       "      <td>5</td>\n",
       "      <td>5</td>\n",
       "    </tr>\n",
       "    <tr>\n",
       "      <th>LotConfig</th>\n",
       "      <td>5</td>\n",
       "      <td>5</td>\n",
       "    </tr>\n",
       "    <tr>\n",
       "      <th>BsmtQual</th>\n",
       "      <td>4</td>\n",
       "      <td>4</td>\n",
       "    </tr>\n",
       "    <tr>\n",
       "      <th>BsmtExposure</th>\n",
       "      <td>4</td>\n",
       "      <td>4</td>\n",
       "    </tr>\n",
       "    <tr>\n",
       "      <th>ExterQual</th>\n",
       "      <td>4</td>\n",
       "      <td>4</td>\n",
       "    </tr>\n",
       "    <tr>\n",
       "      <th>MasVnrType</th>\n",
       "      <td>4</td>\n",
       "      <td>4</td>\n",
       "    </tr>\n",
       "    <tr>\n",
       "      <th>KitchenQual</th>\n",
       "      <td>4</td>\n",
       "      <td>4</td>\n",
       "    </tr>\n",
       "    <tr>\n",
       "      <th>LandContour</th>\n",
       "      <td>4</td>\n",
       "      <td>4</td>\n",
       "    </tr>\n",
       "    <tr>\n",
       "      <th>LotShape</th>\n",
       "      <td>4</td>\n",
       "      <td>4</td>\n",
       "    </tr>\n",
       "    <tr>\n",
       "      <th>BsmtCond</th>\n",
       "      <td>4</td>\n",
       "      <td>4</td>\n",
       "    </tr>\n",
       "    <tr>\n",
       "      <th>LandSlope</th>\n",
       "      <td>3</td>\n",
       "      <td>3</td>\n",
       "    </tr>\n",
       "    <tr>\n",
       "      <th>GarageFinish</th>\n",
       "      <td>3</td>\n",
       "      <td>3</td>\n",
       "    </tr>\n",
       "    <tr>\n",
       "      <th>PavedDrive</th>\n",
       "      <td>3</td>\n",
       "      <td>3</td>\n",
       "    </tr>\n",
       "    <tr>\n",
       "      <th>Street</th>\n",
       "      <td>2</td>\n",
       "      <td>2</td>\n",
       "    </tr>\n",
       "    <tr>\n",
       "      <th>CentralAir</th>\n",
       "      <td>2</td>\n",
       "      <td>2</td>\n",
       "    </tr>\n",
       "  </tbody>\n",
       "</table>\n",
       "</div>"
      ],
      "text/plain": [
       "               Train  Test\n",
       "Neighborhood      25    25\n",
       "SaleType           9     9\n",
       "Condition1         9     9\n",
       "Functional         7     7\n",
       "SaleCondition      6     6\n",
       "Foundation         6     6\n",
       "GarageType         6     6\n",
       "RoofStyle          6     6\n",
       "BsmtFinType2       6     6\n",
       "BsmtFinType1       6     6\n",
       "GarageCond         5     5\n",
       "FireplaceQu        5     5\n",
       "HeatingQC          5     5\n",
       "MSZoning           5     5\n",
       "ExterCond          5     5\n",
       "BldgType           5     5\n",
       "LotConfig          5     5\n",
       "BsmtQual           4     4\n",
       "BsmtExposure       4     4\n",
       "ExterQual          4     4\n",
       "MasVnrType         4     4\n",
       "KitchenQual        4     4\n",
       "LandContour        4     4\n",
       "LotShape           4     4\n",
       "BsmtCond           4     4\n",
       "LandSlope          3     3\n",
       "GarageFinish       3     3\n",
       "PavedDrive         3     3\n",
       "Street             2     2\n",
       "CentralAir         2     2"
      ]
     },
     "execution_count": 13,
     "metadata": {},
     "output_type": "execute_result"
    }
   ],
   "source": [
    "result = pd.DataFrame({'Train': df_train.select_dtypes(include='object').apply(lambda x: x.nunique()),\n",
    "                       'Test': df_test.select_dtypes(include='object').apply(lambda x: x.nunique())}).sort_values(\"Train\", ascending=False)\n",
    "result"
   ]
  },
  {
   "cell_type": "markdown",
   "id": "55793e2c",
   "metadata": {
    "papermill": {
     "duration": 0.015436,
     "end_time": "2023-02-06T01:30:35.890023",
     "exception": false,
     "start_time": "2023-02-06T01:30:35.874587",
     "status": "completed"
    },
    "tags": []
   },
   "source": [
    "**Checking if `df_train` and `df_test` have the same subcategories for each categorical column**"
   ]
  },
  {
   "cell_type": "code",
   "execution_count": 14,
   "id": "5197bb6e",
   "metadata": {
    "execution": {
     "iopub.execute_input": "2023-02-06T01:30:35.922377Z",
     "iopub.status.busy": "2023-02-06T01:30:35.921997Z",
     "iopub.status.idle": "2023-02-06T01:30:35.945961Z",
     "shell.execute_reply": "2023-02-06T01:30:35.944762Z"
    },
    "papermill": {
     "duration": 0.04417,
     "end_time": "2023-02-06T01:30:35.949598",
     "exception": false,
     "start_time": "2023-02-06T01:30:35.905428",
     "status": "completed"
    },
    "tags": []
   },
   "outputs": [
    {
     "name": "stdout",
     "output_type": "stream",
     "text": [
      "MSZoning\n",
      "['C (all)', 'FV', 'RH', 'RL', 'RM']\n",
      "['C (all)', 'FV', 'RH', 'RL', 'RM'] \n",
      "\n",
      "Street\n",
      "['Grvl', 'Pave']\n",
      "['Grvl', 'Pave'] \n",
      "\n",
      "LotShape\n",
      "['IR1', 'IR2', 'IR3', 'Reg']\n",
      "['IR1', 'IR2', 'IR3', 'Reg'] \n",
      "\n",
      "LandContour\n",
      "['Bnk', 'HLS', 'Low', 'Lvl']\n",
      "['Bnk', 'HLS', 'Low', 'Lvl'] \n",
      "\n",
      "LotConfig\n",
      "['Corner', 'CulDSac', 'FR2', 'FR3', 'Inside']\n",
      "['Corner', 'CulDSac', 'FR2', 'FR3', 'Inside'] \n",
      "\n",
      "LandSlope\n",
      "['Gtl', 'Mod', 'Sev']\n",
      "['Gtl', 'Mod', 'Sev'] \n",
      "\n",
      "Neighborhood\n",
      "['Blmngtn', 'Blueste', 'BrDale', 'BrkSide', 'ClearCr', 'CollgCr', 'Crawfor', 'Edwards', 'Gilbert', 'IDOTRR', 'MeadowV', 'Mitchel', 'NAmes', 'NPkVill', 'NWAmes', 'NoRidge', 'NridgHt', 'OldTown', 'SWISU', 'Sawyer', 'SawyerW', 'Somerst', 'StoneBr', 'Timber', 'Veenker']\n",
      "['Blmngtn', 'Blueste', 'BrDale', 'BrkSide', 'ClearCr', 'CollgCr', 'Crawfor', 'Edwards', 'Gilbert', 'IDOTRR', 'MeadowV', 'Mitchel', 'NAmes', 'NPkVill', 'NWAmes', 'NoRidge', 'NridgHt', 'OldTown', 'SWISU', 'Sawyer', 'SawyerW', 'Somerst', 'StoneBr', 'Timber', 'Veenker'] \n",
      "\n",
      "Condition1\n",
      "['Artery', 'Feedr', 'Norm', 'PosA', 'PosN', 'RRAe', 'RRAn', 'RRNe', 'RRNn']\n",
      "['Artery', 'Feedr', 'Norm', 'PosA', 'PosN', 'RRAe', 'RRAn', 'RRNe', 'RRNn'] \n",
      "\n",
      "BldgType\n",
      "['1Fam', '2fmCon', 'Duplex', 'Twnhs', 'TwnhsE']\n",
      "['1Fam', '2fmCon', 'Duplex', 'Twnhs', 'TwnhsE'] \n",
      "\n",
      "RoofStyle\n",
      "['Flat', 'Gable', 'Gambrel', 'Hip', 'Mansard', 'Shed']\n",
      "['Flat', 'Gable', 'Gambrel', 'Hip', 'Mansard', 'Shed'] \n",
      "\n",
      "MasVnrType\n",
      "['BrkCmn', 'BrkFace', 'None', 'Stone']\n",
      "['BrkCmn', 'BrkFace', 'None', 'Stone'] \n",
      "\n",
      "ExterQual\n",
      "['Ex', 'Fa', 'Gd', 'TA']\n",
      "['Ex', 'Fa', 'Gd', 'TA'] \n",
      "\n",
      "ExterCond\n",
      "['Ex', 'Fa', 'Gd', 'Po', 'TA']\n",
      "['Ex', 'Fa', 'Gd', 'Po', 'TA'] \n",
      "\n",
      "Foundation\n",
      "['BrkTil', 'CBlock', 'PConc', 'Slab', 'Stone', 'Wood']\n",
      "['BrkTil', 'CBlock', 'PConc', 'Slab', 'Stone', 'Wood'] \n",
      "\n",
      "BsmtQual\n",
      "['Ex', 'Fa', 'Gd', 'TA']\n",
      "['Ex', 'Fa', 'Gd', 'TA'] \n",
      "\n",
      "BsmtCond\n",
      "['Fa', 'Gd', 'Po', 'TA']\n",
      "['Fa', 'Gd', 'Po', 'TA'] \n",
      "\n",
      "BsmtExposure\n",
      "['Av', 'Gd', 'Mn', 'No']\n",
      "['Av', 'Gd', 'Mn', 'No'] \n",
      "\n",
      "BsmtFinType1\n",
      "['ALQ', 'BLQ', 'GLQ', 'LwQ', 'Rec', 'Unf']\n",
      "['ALQ', 'BLQ', 'GLQ', 'LwQ', 'Rec', 'Unf'] \n",
      "\n",
      "BsmtFinType2\n",
      "['ALQ', 'BLQ', 'GLQ', 'LwQ', 'Rec', 'Unf']\n",
      "['ALQ', 'BLQ', 'GLQ', 'LwQ', 'Rec', 'Unf'] \n",
      "\n",
      "HeatingQC\n",
      "['Ex', 'Fa', 'Gd', 'Po', 'TA']\n",
      "['Ex', 'Fa', 'Gd', 'Po', 'TA'] \n",
      "\n",
      "CentralAir\n",
      "['N', 'Y']\n",
      "['N', 'Y'] \n",
      "\n",
      "KitchenQual\n",
      "['Ex', 'Fa', 'Gd', 'TA']\n",
      "['Ex', 'Fa', 'Gd', 'TA'] \n",
      "\n",
      "Functional\n",
      "['Maj1', 'Maj2', 'Min1', 'Min2', 'Mod', 'Sev', 'Typ']\n",
      "['Maj1', 'Maj2', 'Min1', 'Min2', 'Mod', 'Sev', 'Typ'] \n",
      "\n",
      "FireplaceQu\n",
      "['Ex', 'Fa', 'Gd', 'Po', 'TA']\n",
      "['Ex', 'Fa', 'Gd', 'Po', 'TA'] \n",
      "\n",
      "GarageType\n",
      "['2Types', 'Attchd', 'Basment', 'BuiltIn', 'CarPort', 'Detchd']\n",
      "['2Types', 'Attchd', 'Basment', 'BuiltIn', 'CarPort', 'Detchd'] \n",
      "\n",
      "GarageFinish\n",
      "['Fin', 'RFn', 'Unf']\n",
      "['Fin', 'RFn', 'Unf'] \n",
      "\n",
      "GarageCond\n",
      "['Ex', 'Fa', 'Gd', 'Po', 'TA']\n",
      "['Ex', 'Fa', 'Gd', 'Po', 'TA'] \n",
      "\n",
      "PavedDrive\n",
      "['N', 'P', 'Y']\n",
      "['N', 'P', 'Y'] \n",
      "\n",
      "SaleType\n",
      "['COD', 'CWD', 'Con', 'ConLD', 'ConLI', 'ConLw', 'New', 'Oth', 'WD']\n",
      "['COD', 'CWD', 'Con', 'ConLD', 'ConLI', 'ConLw', 'New', 'Oth', 'WD'] \n",
      "\n",
      "SaleCondition\n",
      "['Abnorml', 'AdjLand', 'Alloca', 'Family', 'Normal', 'Partial']\n",
      "['Abnorml', 'AdjLand', 'Alloca', 'Family', 'Normal', 'Partial'] \n",
      "\n"
     ]
    }
   ],
   "source": [
    "for cols in df_train.select_dtypes(include='object').columns:\n",
    "    print(cols)\n",
    "    print(sorted(df_train[cols].unique()))\n",
    "    print(sorted(df_test[cols].unique()), \"\\n\")"
   ]
  },
  {
   "cell_type": "markdown",
   "id": "777d9c23",
   "metadata": {
    "papermill": {
     "duration": 0.014825,
     "end_time": "2023-02-06T01:30:35.980967",
     "exception": false,
     "start_time": "2023-02-06T01:30:35.966142",
     "status": "completed"
    },
    "tags": []
   },
   "source": [
    "**Asserting there is no differnce in subcatagories per catagorical column**"
   ]
  },
  {
   "cell_type": "code",
   "execution_count": 15,
   "id": "86b9364e",
   "metadata": {
    "execution": {
     "iopub.execute_input": "2023-02-06T01:30:36.013967Z",
     "iopub.status.busy": "2023-02-06T01:30:36.013500Z",
     "iopub.status.idle": "2023-02-06T01:30:36.035193Z",
     "shell.execute_reply": "2023-02-06T01:30:36.033930Z"
    },
    "papermill": {
     "duration": 0.041431,
     "end_time": "2023-02-06T01:30:36.037821",
     "exception": false,
     "start_time": "2023-02-06T01:30:35.996390",
     "status": "completed"
    },
    "tags": []
   },
   "outputs": [
    {
     "name": "stdout",
     "output_type": "stream",
     "text": [
      "0\n",
      "0\n"
     ]
    }
   ],
   "source": [
    "train_cat_cols_missing_vals = list(df_train.select_dtypes(include='object').columns[df_train.select_dtypes(include='object').isnull().sum() > 0])\n",
    "print(len(train_cat_cols_missing_vals))\n",
    "\n",
    "test_cat_cols_missing_vals = list(df_test.select_dtypes(include='object').columns[df_test.select_dtypes(include='object').isnull().sum() > 0])\n",
    "print(len(test_cat_cols_missing_vals))"
   ]
  },
  {
   "cell_type": "code",
   "execution_count": 16,
   "id": "12081aaf",
   "metadata": {
    "execution": {
     "iopub.execute_input": "2023-02-06T01:30:36.071332Z",
     "iopub.status.busy": "2023-02-06T01:30:36.070909Z",
     "iopub.status.idle": "2023-02-06T01:30:36.091404Z",
     "shell.execute_reply": "2023-02-06T01:30:36.090158Z"
    },
    "papermill": {
     "duration": 0.040563,
     "end_time": "2023-02-06T01:30:36.094032",
     "exception": false,
     "start_time": "2023-02-06T01:30:36.053469",
     "status": "completed"
    },
    "tags": []
   },
   "outputs": [
    {
     "name": "stdout",
     "output_type": "stream",
     "text": [
      "Index([], dtype='object')\n",
      "Index([], dtype='object')\n"
     ]
    }
   ],
   "source": [
    "print(df_train.select_dtypes(include='object').columns[df_train.select_dtypes(include='object').isnull().sum()>0])\n",
    "\n",
    "print(df_test.select_dtypes(include='object').columns[df_test.select_dtypes(include='object').isnull().sum()>0])"
   ]
  },
  {
   "cell_type": "markdown",
   "id": "8b856e7d",
   "metadata": {
    "papermill": {
     "duration": 0.015311,
     "end_time": "2023-02-06T01:30:36.125282",
     "exception": false,
     "start_time": "2023-02-06T01:30:36.109971",
     "status": "completed"
    },
    "tags": []
   },
   "source": [
    "**Handling Missing Values for numeric columns**\n",
    "\n",
    "Let's count the number of missing values per column. "
   ]
  },
  {
   "cell_type": "code",
   "execution_count": 17,
   "id": "b782c23e",
   "metadata": {
    "execution": {
     "iopub.execute_input": "2023-02-06T01:30:36.159162Z",
     "iopub.status.busy": "2023-02-06T01:30:36.158722Z",
     "iopub.status.idle": "2023-02-06T01:30:36.174890Z",
     "shell.execute_reply": "2023-02-06T01:30:36.173560Z"
    },
    "papermill": {
     "duration": 0.036041,
     "end_time": "2023-02-06T01:30:36.177279",
     "exception": false,
     "start_time": "2023-02-06T01:30:36.141238",
     "status": "completed"
    },
    "tags": []
   },
   "outputs": [
    {
     "data": {
      "text/plain": [
       "LotFrontage    259\n",
       "GarageYrBlt     80\n",
       "MasVnrArea       8\n",
       "dtype: int64"
      ]
     },
     "execution_count": 17,
     "metadata": {},
     "output_type": "execute_result"
    }
   ],
   "source": [
    "train_num_cols = df_train.select_dtypes(exclude='object').columns[df_train.select_dtypes(exclude='object').isnull().sum()>0]\n",
    "\n",
    "df_train[train_num_cols].isnull().sum().sort_values(ascending=False)"
   ]
  },
  {
   "cell_type": "markdown",
   "id": "9cb5eda2",
   "metadata": {
    "papermill": {
     "duration": 0.015519,
     "end_time": "2023-02-06T01:30:36.208604",
     "exception": false,
     "start_time": "2023-02-06T01:30:36.193085",
     "status": "completed"
    },
    "tags": []
   },
   "source": [
    "**Replacing Missing Values**\n",
    "\n",
    "Affected columns from trainig data\n",
    "* LotFrontage - replace with average lot frontage\n",
    "* GarageYrBlt - replace with most frequent year\n",
    "* MasVnrArea  - replace with average area"
   ]
  },
  {
   "cell_type": "code",
   "execution_count": 18,
   "id": "28701c91",
   "metadata": {
    "execution": {
     "iopub.execute_input": "2023-02-06T01:30:36.243017Z",
     "iopub.status.busy": "2023-02-06T01:30:36.242300Z",
     "iopub.status.idle": "2023-02-06T01:30:36.252799Z",
     "shell.execute_reply": "2023-02-06T01:30:36.251950Z"
    },
    "papermill": {
     "duration": 0.030343,
     "end_time": "2023-02-06T01:30:36.255290",
     "exception": false,
     "start_time": "2023-02-06T01:30:36.224947",
     "status": "completed"
    },
    "tags": []
   },
   "outputs": [],
   "source": [
    "df_train[\"LotFrontage\"].fillna(df_train[\"LotFrontage\"].median(), inplace=True)\n",
    "df_train[\"GarageYrBlt\"].fillna(df_train[\"GarageYrBlt\"].median(), inplace=True)\n",
    "df_train[\"MasVnrArea\"].fillna(df_train[\"MasVnrArea\"].median(), inplace=True)"
   ]
  },
  {
   "cell_type": "markdown",
   "id": "1fa907d1",
   "metadata": {
    "papermill": {
     "duration": 0.015196,
     "end_time": "2023-02-06T01:30:36.286302",
     "exception": false,
     "start_time": "2023-02-06T01:30:36.271106",
     "status": "completed"
    },
    "tags": []
   },
   "source": [
    "**Handling df_test missing values**\n",
    "\n",
    "Let's check for columns with missing values."
   ]
  },
  {
   "cell_type": "code",
   "execution_count": 19,
   "id": "3f6d5f11",
   "metadata": {
    "execution": {
     "iopub.execute_input": "2023-02-06T01:30:36.319698Z",
     "iopub.status.busy": "2023-02-06T01:30:36.319264Z",
     "iopub.status.idle": "2023-02-06T01:30:36.335111Z",
     "shell.execute_reply": "2023-02-06T01:30:36.334156Z"
    },
    "papermill": {
     "duration": 0.035292,
     "end_time": "2023-02-06T01:30:36.337515",
     "exception": false,
     "start_time": "2023-02-06T01:30:36.302223",
     "status": "completed"
    },
    "tags": []
   },
   "outputs": [
    {
     "data": {
      "text/plain": [
       "LotFrontage     227\n",
       "GarageYrBlt      78\n",
       "MasVnrArea       15\n",
       "BsmtFullBath      2\n",
       "BsmtHalfBath      2\n",
       "BsmtFinSF1        1\n",
       "BsmtFinSF2        1\n",
       "BsmtUnfSF         1\n",
       "TotalBsmtSF       1\n",
       "GarageCars        1\n",
       "GarageArea        1\n",
       "dtype: int64"
      ]
     },
     "execution_count": 19,
     "metadata": {},
     "output_type": "execute_result"
    }
   ],
   "source": [
    "test_num_cols = df_test.select_dtypes(exclude='object').columns[df_test.select_dtypes(exclude='object').isnull().sum()>0]\n",
    "\n",
    "df_test[test_num_cols].isnull().sum().sort_values(ascending=False)"
   ]
  },
  {
   "cell_type": "markdown",
   "id": "6e6592f2",
   "metadata": {
    "papermill": {
     "duration": 0.015281,
     "end_time": "2023-02-06T01:30:36.368799",
     "exception": false,
     "start_time": "2023-02-06T01:30:36.353518",
     "status": "completed"
    },
    "tags": []
   },
   "source": [
    "**Replacing Missing Values**\n",
    "\n",
    "Testing data\n",
    "* LotFrontage - replace with median\n",
    "* GarageYrBlt - replace with median\n",
    "* MasVnrArea - replace with median\n",
    "* BsmtFullBath - replace with median\n",
    "* BsmtHalfBath - replace with median\n",
    "* BsmtFinSF1 - replace with median\n",
    "* BsmtFinSF2 - replace with median\n",
    "* BsmtUnfSF - replace with median\n",
    "* TotalBsmtSF - replace with median\n",
    "* GarageCars - replace with median\n",
    "* GarageArea - replace with median"
   ]
  },
  {
   "cell_type": "code",
   "execution_count": 20,
   "id": "5331b6f4",
   "metadata": {
    "execution": {
     "iopub.execute_input": "2023-02-06T01:30:36.402143Z",
     "iopub.status.busy": "2023-02-06T01:30:36.401709Z",
     "iopub.status.idle": "2023-02-06T01:30:36.417469Z",
     "shell.execute_reply": "2023-02-06T01:30:36.416558Z"
    },
    "papermill": {
     "duration": 0.03552,
     "end_time": "2023-02-06T01:30:36.419903",
     "exception": false,
     "start_time": "2023-02-06T01:30:36.384383",
     "status": "completed"
    },
    "tags": []
   },
   "outputs": [],
   "source": [
    "num_cols_missing_vals = list(df_test[test_num_cols].isnull().sum().sort_values(ascending=False).index)\n",
    "\n",
    "for col in num_cols_missing_vals:\n",
    "    df_test[col].fillna(df_test[col].median(), inplace=True)"
   ]
  },
  {
   "cell_type": "markdown",
   "id": "d5cf127f",
   "metadata": {
    "papermill": {
     "duration": 0.015381,
     "end_time": "2023-02-06T01:30:36.451029",
     "exception": false,
     "start_time": "2023-02-06T01:30:36.435648",
     "status": "completed"
    },
    "tags": []
   },
   "source": [
    "**Separating training data features from lables**"
   ]
  },
  {
   "cell_type": "code",
   "execution_count": 21,
   "id": "9f6eb423",
   "metadata": {
    "execution": {
     "iopub.execute_input": "2023-02-06T01:30:36.484853Z",
     "iopub.status.busy": "2023-02-06T01:30:36.484453Z",
     "iopub.status.idle": "2023-02-06T01:30:36.492062Z",
     "shell.execute_reply": "2023-02-06T01:30:36.491119Z"
    },
    "papermill": {
     "duration": 0.027946,
     "end_time": "2023-02-06T01:30:36.494763",
     "exception": false,
     "start_time": "2023-02-06T01:30:36.466817",
     "status": "completed"
    },
    "tags": []
   },
   "outputs": [
    {
     "name": "stdout",
     "output_type": "stream",
     "text": [
      "X-train dimension: (1459, 66)\n",
      "y-train dimension: (1459,)\n",
      "X-test dimension: (1459, 66)\n"
     ]
    }
   ],
   "source": [
    "# Split the data into features and target\n",
    "X_train = df_train.drop(\"SalePrice\", axis=1)\n",
    "print(f\"X-train dimension: {X_train.shape}\")\n",
    "\n",
    "y_train_final = df_train[\"SalePrice\"]\n",
    "print(f\"y-train dimension: {y_train_final.shape}\")\n",
    "\n",
    "# test set\n",
    "print(f\"X-test dimension: {df_test.shape}\")"
   ]
  },
  {
   "cell_type": "markdown",
   "id": "200ce5b2",
   "metadata": {
    "papermill": {
     "duration": 0.015502,
     "end_time": "2023-02-06T01:30:36.526007",
     "exception": false,
     "start_time": "2023-02-06T01:30:36.510505",
     "status": "completed"
    },
    "tags": []
   },
   "source": [
    "### OneHotEncoding\n",
    "Let's convert categories into 0's and 1's using OneHotEncoding"
   ]
  },
  {
   "cell_type": "code",
   "execution_count": 22,
   "id": "9ccbde41",
   "metadata": {
    "execution": {
     "iopub.execute_input": "2023-02-06T01:30:36.559598Z",
     "iopub.status.busy": "2023-02-06T01:30:36.559209Z",
     "iopub.status.idle": "2023-02-06T01:30:36.634968Z",
     "shell.execute_reply": "2023-02-06T01:30:36.633359Z"
    },
    "papermill": {
     "duration": 0.096391,
     "end_time": "2023-02-06T01:30:36.638163",
     "exception": false,
     "start_time": "2023-02-06T01:30:36.541772",
     "status": "completed"
    },
    "tags": []
   },
   "outputs": [
    {
     "name": "stdout",
     "output_type": "stream",
     "text": [
      "30\n",
      "30\n"
     ]
    }
   ],
   "source": [
    "# Train \n",
    "from sklearn.preprocessing import OneHotEncoder\n",
    "\n",
    "# select the categorical columns\n",
    "cat_cols_train = X_train.select_dtypes(include='object')\n",
    "print(len(list(cat_cols_train.columns)))\n",
    "\n",
    "cat_cols_test = df_test.select_dtypes(include='object')\n",
    "print(len(list(cat_cols_test.columns)))\n",
    "\n",
    "one_hot_encoded_train_data = pd.get_dummies(X_train) #.select_dtypes(include='object')) \n",
    "final_train = one_hot_encoded_train_data.copy()\n",
    "\n",
    "one_hot_encoded_test_data = pd.get_dummies(df_test) #.select_dtypes(include='object')) \n",
    "final_test = one_hot_encoded_test_data.copy()"
   ]
  },
  {
   "cell_type": "code",
   "execution_count": 23,
   "id": "69040352",
   "metadata": {
    "execution": {
     "iopub.execute_input": "2023-02-06T01:30:36.674701Z",
     "iopub.status.busy": "2023-02-06T01:30:36.674220Z",
     "iopub.status.idle": "2023-02-06T01:30:36.697149Z",
     "shell.execute_reply": "2023-02-06T01:30:36.695815Z"
    },
    "papermill": {
     "duration": 0.045084,
     "end_time": "2023-02-06T01:30:36.699697",
     "exception": false,
     "start_time": "2023-02-06T01:30:36.654613",
     "status": "completed"
    },
    "tags": []
   },
   "outputs": [
    {
     "data": {
      "text/html": [
       "<div>\n",
       "<style scoped>\n",
       "    .dataframe tbody tr th:only-of-type {\n",
       "        vertical-align: middle;\n",
       "    }\n",
       "\n",
       "    .dataframe tbody tr th {\n",
       "        vertical-align: top;\n",
       "    }\n",
       "\n",
       "    .dataframe thead th {\n",
       "        text-align: right;\n",
       "    }\n",
       "</style>\n",
       "<table border=\"1\" class=\"dataframe\">\n",
       "  <thead>\n",
       "    <tr style=\"text-align: right;\">\n",
       "      <th></th>\n",
       "      <th>MSSubClass</th>\n",
       "      <th>LotFrontage</th>\n",
       "      <th>LotArea</th>\n",
       "      <th>OverallQual</th>\n",
       "      <th>OverallCond</th>\n",
       "      <th>YearBuilt</th>\n",
       "      <th>YearRemodAdd</th>\n",
       "      <th>MasVnrArea</th>\n",
       "      <th>BsmtFinSF1</th>\n",
       "      <th>BsmtFinSF2</th>\n",
       "      <th>...</th>\n",
       "      <th>SaleType_ConLw</th>\n",
       "      <th>SaleType_New</th>\n",
       "      <th>SaleType_Oth</th>\n",
       "      <th>SaleType_WD</th>\n",
       "      <th>SaleCondition_Abnorml</th>\n",
       "      <th>SaleCondition_AdjLand</th>\n",
       "      <th>SaleCondition_Alloca</th>\n",
       "      <th>SaleCondition_Family</th>\n",
       "      <th>SaleCondition_Normal</th>\n",
       "      <th>SaleCondition_Partial</th>\n",
       "    </tr>\n",
       "  </thead>\n",
       "  <tbody>\n",
       "    <tr>\n",
       "      <th>1011</th>\n",
       "      <td>90</td>\n",
       "      <td>75.0</td>\n",
       "      <td>9825</td>\n",
       "      <td>5</td>\n",
       "      <td>5</td>\n",
       "      <td>1965</td>\n",
       "      <td>1965</td>\n",
       "      <td>0.0</td>\n",
       "      <td>0</td>\n",
       "      <td>0</td>\n",
       "      <td>...</td>\n",
       "      <td>0</td>\n",
       "      <td>0</td>\n",
       "      <td>0</td>\n",
       "      <td>1</td>\n",
       "      <td>0</td>\n",
       "      <td>0</td>\n",
       "      <td>0</td>\n",
       "      <td>0</td>\n",
       "      <td>1</td>\n",
       "      <td>0</td>\n",
       "    </tr>\n",
       "    <tr>\n",
       "      <th>1218</th>\n",
       "      <td>50</td>\n",
       "      <td>52.0</td>\n",
       "      <td>6240</td>\n",
       "      <td>4</td>\n",
       "      <td>5</td>\n",
       "      <td>1947</td>\n",
       "      <td>1950</td>\n",
       "      <td>0.0</td>\n",
       "      <td>0</td>\n",
       "      <td>0</td>\n",
       "      <td>...</td>\n",
       "      <td>0</td>\n",
       "      <td>0</td>\n",
       "      <td>0</td>\n",
       "      <td>1</td>\n",
       "      <td>0</td>\n",
       "      <td>0</td>\n",
       "      <td>0</td>\n",
       "      <td>0</td>\n",
       "      <td>1</td>\n",
       "      <td>0</td>\n",
       "    </tr>\n",
       "    <tr>\n",
       "      <th>533</th>\n",
       "      <td>20</td>\n",
       "      <td>50.0</td>\n",
       "      <td>5000</td>\n",
       "      <td>1</td>\n",
       "      <td>3</td>\n",
       "      <td>1946</td>\n",
       "      <td>1950</td>\n",
       "      <td>0.0</td>\n",
       "      <td>0</td>\n",
       "      <td>0</td>\n",
       "      <td>...</td>\n",
       "      <td>0</td>\n",
       "      <td>0</td>\n",
       "      <td>0</td>\n",
       "      <td>1</td>\n",
       "      <td>0</td>\n",
       "      <td>0</td>\n",
       "      <td>0</td>\n",
       "      <td>0</td>\n",
       "      <td>1</td>\n",
       "      <td>0</td>\n",
       "    </tr>\n",
       "    <tr>\n",
       "      <th>1179</th>\n",
       "      <td>20</td>\n",
       "      <td>77.0</td>\n",
       "      <td>8335</td>\n",
       "      <td>5</td>\n",
       "      <td>5</td>\n",
       "      <td>1954</td>\n",
       "      <td>1954</td>\n",
       "      <td>0.0</td>\n",
       "      <td>0</td>\n",
       "      <td>0</td>\n",
       "      <td>...</td>\n",
       "      <td>0</td>\n",
       "      <td>0</td>\n",
       "      <td>0</td>\n",
       "      <td>1</td>\n",
       "      <td>0</td>\n",
       "      <td>0</td>\n",
       "      <td>0</td>\n",
       "      <td>0</td>\n",
       "      <td>1</td>\n",
       "      <td>0</td>\n",
       "    </tr>\n",
       "    <tr>\n",
       "      <th>705</th>\n",
       "      <td>190</td>\n",
       "      <td>70.0</td>\n",
       "      <td>5600</td>\n",
       "      <td>4</td>\n",
       "      <td>5</td>\n",
       "      <td>1930</td>\n",
       "      <td>1950</td>\n",
       "      <td>0.0</td>\n",
       "      <td>0</td>\n",
       "      <td>0</td>\n",
       "      <td>...</td>\n",
       "      <td>0</td>\n",
       "      <td>0</td>\n",
       "      <td>0</td>\n",
       "      <td>1</td>\n",
       "      <td>0</td>\n",
       "      <td>0</td>\n",
       "      <td>0</td>\n",
       "      <td>0</td>\n",
       "      <td>1</td>\n",
       "      <td>0</td>\n",
       "    </tr>\n",
       "  </tbody>\n",
       "</table>\n",
       "<p>5 rows × 202 columns</p>\n",
       "</div>"
      ],
      "text/plain": [
       "      MSSubClass  LotFrontage  LotArea  OverallQual  OverallCond  YearBuilt  \\\n",
       "1011          90         75.0     9825            5            5       1965   \n",
       "1218          50         52.0     6240            4            5       1947   \n",
       "533           20         50.0     5000            1            3       1946   \n",
       "1179          20         77.0     8335            5            5       1954   \n",
       "705          190         70.0     5600            4            5       1930   \n",
       "\n",
       "      YearRemodAdd  MasVnrArea  BsmtFinSF1  BsmtFinSF2  ...  SaleType_ConLw  \\\n",
       "1011          1965         0.0           0           0  ...               0   \n",
       "1218          1950         0.0           0           0  ...               0   \n",
       "533           1950         0.0           0           0  ...               0   \n",
       "1179          1954         0.0           0           0  ...               0   \n",
       "705           1950         0.0           0           0  ...               0   \n",
       "\n",
       "      SaleType_New  SaleType_Oth  SaleType_WD  SaleCondition_Abnorml  \\\n",
       "1011             0             0            1                      0   \n",
       "1218             0             0            1                      0   \n",
       "533              0             0            1                      0   \n",
       "1179             0             0            1                      0   \n",
       "705              0             0            1                      0   \n",
       "\n",
       "      SaleCondition_AdjLand  SaleCondition_Alloca  SaleCondition_Family  \\\n",
       "1011                      0                     0                     0   \n",
       "1218                      0                     0                     0   \n",
       "533                       0                     0                     0   \n",
       "1179                      0                     0                     0   \n",
       "705                       0                     0                     0   \n",
       "\n",
       "      SaleCondition_Normal  SaleCondition_Partial  \n",
       "1011                     1                      0  \n",
       "1218                     1                      0  \n",
       "533                      1                      0  \n",
       "1179                     1                      0  \n",
       "705                      1                      0  \n",
       "\n",
       "[5 rows x 202 columns]"
      ]
     },
     "execution_count": 23,
     "metadata": {},
     "output_type": "execute_result"
    }
   ],
   "source": [
    "final_train.head()"
   ]
  },
  {
   "cell_type": "code",
   "execution_count": 24,
   "id": "abac38b1",
   "metadata": {
    "execution": {
     "iopub.execute_input": "2023-02-06T01:30:36.734978Z",
     "iopub.status.busy": "2023-02-06T01:30:36.734527Z",
     "iopub.status.idle": "2023-02-06T01:30:36.757588Z",
     "shell.execute_reply": "2023-02-06T01:30:36.756333Z"
    },
    "papermill": {
     "duration": 0.043354,
     "end_time": "2023-02-06T01:30:36.760020",
     "exception": false,
     "start_time": "2023-02-06T01:30:36.716666",
     "status": "completed"
    },
    "tags": []
   },
   "outputs": [
    {
     "data": {
      "text/html": [
       "<div>\n",
       "<style scoped>\n",
       "    .dataframe tbody tr th:only-of-type {\n",
       "        vertical-align: middle;\n",
       "    }\n",
       "\n",
       "    .dataframe tbody tr th {\n",
       "        vertical-align: top;\n",
       "    }\n",
       "\n",
       "    .dataframe thead th {\n",
       "        text-align: right;\n",
       "    }\n",
       "</style>\n",
       "<table border=\"1\" class=\"dataframe\">\n",
       "  <thead>\n",
       "    <tr style=\"text-align: right;\">\n",
       "      <th></th>\n",
       "      <th>MSSubClass</th>\n",
       "      <th>LotFrontage</th>\n",
       "      <th>LotArea</th>\n",
       "      <th>OverallQual</th>\n",
       "      <th>OverallCond</th>\n",
       "      <th>YearBuilt</th>\n",
       "      <th>YearRemodAdd</th>\n",
       "      <th>MasVnrArea</th>\n",
       "      <th>BsmtFinSF1</th>\n",
       "      <th>BsmtFinSF2</th>\n",
       "      <th>...</th>\n",
       "      <th>SaleType_ConLw</th>\n",
       "      <th>SaleType_New</th>\n",
       "      <th>SaleType_Oth</th>\n",
       "      <th>SaleType_WD</th>\n",
       "      <th>SaleCondition_Abnorml</th>\n",
       "      <th>SaleCondition_AdjLand</th>\n",
       "      <th>SaleCondition_Alloca</th>\n",
       "      <th>SaleCondition_Family</th>\n",
       "      <th>SaleCondition_Normal</th>\n",
       "      <th>SaleCondition_Partial</th>\n",
       "    </tr>\n",
       "  </thead>\n",
       "  <tbody>\n",
       "    <tr>\n",
       "      <th>0</th>\n",
       "      <td>20</td>\n",
       "      <td>80.0</td>\n",
       "      <td>11622</td>\n",
       "      <td>5</td>\n",
       "      <td>6</td>\n",
       "      <td>1961</td>\n",
       "      <td>1961</td>\n",
       "      <td>0.0</td>\n",
       "      <td>468.0</td>\n",
       "      <td>144.0</td>\n",
       "      <td>...</td>\n",
       "      <td>0</td>\n",
       "      <td>0</td>\n",
       "      <td>0</td>\n",
       "      <td>1</td>\n",
       "      <td>0</td>\n",
       "      <td>0</td>\n",
       "      <td>0</td>\n",
       "      <td>0</td>\n",
       "      <td>1</td>\n",
       "      <td>0</td>\n",
       "    </tr>\n",
       "    <tr>\n",
       "      <th>1</th>\n",
       "      <td>20</td>\n",
       "      <td>81.0</td>\n",
       "      <td>14267</td>\n",
       "      <td>6</td>\n",
       "      <td>6</td>\n",
       "      <td>1958</td>\n",
       "      <td>1958</td>\n",
       "      <td>108.0</td>\n",
       "      <td>923.0</td>\n",
       "      <td>0.0</td>\n",
       "      <td>...</td>\n",
       "      <td>0</td>\n",
       "      <td>0</td>\n",
       "      <td>0</td>\n",
       "      <td>1</td>\n",
       "      <td>0</td>\n",
       "      <td>0</td>\n",
       "      <td>0</td>\n",
       "      <td>0</td>\n",
       "      <td>1</td>\n",
       "      <td>0</td>\n",
       "    </tr>\n",
       "    <tr>\n",
       "      <th>2</th>\n",
       "      <td>60</td>\n",
       "      <td>74.0</td>\n",
       "      <td>13830</td>\n",
       "      <td>5</td>\n",
       "      <td>5</td>\n",
       "      <td>1997</td>\n",
       "      <td>1998</td>\n",
       "      <td>0.0</td>\n",
       "      <td>791.0</td>\n",
       "      <td>0.0</td>\n",
       "      <td>...</td>\n",
       "      <td>0</td>\n",
       "      <td>0</td>\n",
       "      <td>0</td>\n",
       "      <td>1</td>\n",
       "      <td>0</td>\n",
       "      <td>0</td>\n",
       "      <td>0</td>\n",
       "      <td>0</td>\n",
       "      <td>1</td>\n",
       "      <td>0</td>\n",
       "    </tr>\n",
       "    <tr>\n",
       "      <th>3</th>\n",
       "      <td>60</td>\n",
       "      <td>78.0</td>\n",
       "      <td>9978</td>\n",
       "      <td>6</td>\n",
       "      <td>6</td>\n",
       "      <td>1998</td>\n",
       "      <td>1998</td>\n",
       "      <td>20.0</td>\n",
       "      <td>602.0</td>\n",
       "      <td>0.0</td>\n",
       "      <td>...</td>\n",
       "      <td>0</td>\n",
       "      <td>0</td>\n",
       "      <td>0</td>\n",
       "      <td>1</td>\n",
       "      <td>0</td>\n",
       "      <td>0</td>\n",
       "      <td>0</td>\n",
       "      <td>0</td>\n",
       "      <td>1</td>\n",
       "      <td>0</td>\n",
       "    </tr>\n",
       "    <tr>\n",
       "      <th>4</th>\n",
       "      <td>120</td>\n",
       "      <td>43.0</td>\n",
       "      <td>5005</td>\n",
       "      <td>8</td>\n",
       "      <td>5</td>\n",
       "      <td>1992</td>\n",
       "      <td>1992</td>\n",
       "      <td>0.0</td>\n",
       "      <td>263.0</td>\n",
       "      <td>0.0</td>\n",
       "      <td>...</td>\n",
       "      <td>0</td>\n",
       "      <td>0</td>\n",
       "      <td>0</td>\n",
       "      <td>1</td>\n",
       "      <td>0</td>\n",
       "      <td>0</td>\n",
       "      <td>0</td>\n",
       "      <td>0</td>\n",
       "      <td>1</td>\n",
       "      <td>0</td>\n",
       "    </tr>\n",
       "  </tbody>\n",
       "</table>\n",
       "<p>5 rows × 202 columns</p>\n",
       "</div>"
      ],
      "text/plain": [
       "   MSSubClass  LotFrontage  LotArea  OverallQual  OverallCond  YearBuilt  \\\n",
       "0          20         80.0    11622            5            6       1961   \n",
       "1          20         81.0    14267            6            6       1958   \n",
       "2          60         74.0    13830            5            5       1997   \n",
       "3          60         78.0     9978            6            6       1998   \n",
       "4         120         43.0     5005            8            5       1992   \n",
       "\n",
       "   YearRemodAdd  MasVnrArea  BsmtFinSF1  BsmtFinSF2  ...  SaleType_ConLw  \\\n",
       "0          1961         0.0       468.0       144.0  ...               0   \n",
       "1          1958       108.0       923.0         0.0  ...               0   \n",
       "2          1998         0.0       791.0         0.0  ...               0   \n",
       "3          1998        20.0       602.0         0.0  ...               0   \n",
       "4          1992         0.0       263.0         0.0  ...               0   \n",
       "\n",
       "   SaleType_New  SaleType_Oth  SaleType_WD  SaleCondition_Abnorml  \\\n",
       "0             0             0            1                      0   \n",
       "1             0             0            1                      0   \n",
       "2             0             0            1                      0   \n",
       "3             0             0            1                      0   \n",
       "4             0             0            1                      0   \n",
       "\n",
       "   SaleCondition_AdjLand  SaleCondition_Alloca  SaleCondition_Family  \\\n",
       "0                      0                     0                     0   \n",
       "1                      0                     0                     0   \n",
       "2                      0                     0                     0   \n",
       "3                      0                     0                     0   \n",
       "4                      0                     0                     0   \n",
       "\n",
       "   SaleCondition_Normal  SaleCondition_Partial  \n",
       "0                     1                      0  \n",
       "1                     1                      0  \n",
       "2                     1                      0  \n",
       "3                     1                      0  \n",
       "4                     1                      0  \n",
       "\n",
       "[5 rows x 202 columns]"
      ]
     },
     "execution_count": 24,
     "metadata": {},
     "output_type": "execute_result"
    }
   ],
   "source": [
    "final_test.head()"
   ]
  },
  {
   "cell_type": "markdown",
   "id": "7d25b4dc",
   "metadata": {
    "papermill": {
     "duration": 0.016756,
     "end_time": "2023-02-06T01:30:36.793542",
     "exception": false,
     "start_time": "2023-02-06T01:30:36.776786",
     "status": "completed"
    },
    "tags": []
   },
   "source": [
    "checking for mismatch between train and test datasets"
   ]
  },
  {
   "cell_type": "code",
   "execution_count": 25,
   "id": "fb0c6813",
   "metadata": {
    "execution": {
     "iopub.execute_input": "2023-02-06T01:30:36.831922Z",
     "iopub.status.busy": "2023-02-06T01:30:36.831437Z",
     "iopub.status.idle": "2023-02-06T01:30:36.839229Z",
     "shell.execute_reply": "2023-02-06T01:30:36.838137Z"
    },
    "papermill": {
     "duration": 0.030843,
     "end_time": "2023-02-06T01:30:36.841529",
     "exception": false,
     "start_time": "2023-02-06T01:30:36.810686",
     "status": "completed"
    },
    "tags": []
   },
   "outputs": [
    {
     "data": {
      "text/plain": [
       "set()"
      ]
     },
     "execution_count": 25,
     "metadata": {},
     "output_type": "execute_result"
    }
   ],
   "source": [
    "set(final_train.columns) - set(final_test.columns)"
   ]
  },
  {
   "cell_type": "code",
   "execution_count": 26,
   "id": "f4949ea5",
   "metadata": {
    "execution": {
     "iopub.execute_input": "2023-02-06T01:30:36.877148Z",
     "iopub.status.busy": "2023-02-06T01:30:36.876732Z",
     "iopub.status.idle": "2023-02-06T01:30:36.889469Z",
     "shell.execute_reply": "2023-02-06T01:30:36.887762Z"
    },
    "papermill": {
     "duration": 0.033751,
     "end_time": "2023-02-06T01:30:36.892287",
     "exception": false,
     "start_time": "2023-02-06T01:30:36.858536",
     "status": "completed"
    },
    "tags": []
   },
   "outputs": [
    {
     "name": "stdout",
     "output_type": "stream",
     "text": [
      "0 0\n"
     ]
    }
   ],
   "source": [
    "print(final_train.isnull().sum().sum(), final_test.isnull().sum().sum())"
   ]
  },
  {
   "cell_type": "markdown",
   "id": "fff22928",
   "metadata": {
    "papermill": {
     "duration": 0.016612,
     "end_time": "2023-02-06T01:30:36.926017",
     "exception": false,
     "start_time": "2023-02-06T01:30:36.909405",
     "status": "completed"
    },
    "tags": []
   },
   "source": [
    "Checking dimension of our datasets before building ML model."
   ]
  },
  {
   "cell_type": "code",
   "execution_count": 27,
   "id": "371e1ea7",
   "metadata": {
    "execution": {
     "iopub.execute_input": "2023-02-06T01:30:36.961939Z",
     "iopub.status.busy": "2023-02-06T01:30:36.961065Z",
     "iopub.status.idle": "2023-02-06T01:30:36.967652Z",
     "shell.execute_reply": "2023-02-06T01:30:36.966291Z"
    },
    "papermill": {
     "duration": 0.02749,
     "end_time": "2023-02-06T01:30:36.970273",
     "exception": false,
     "start_time": "2023-02-06T01:30:36.942783",
     "status": "completed"
    },
    "tags": []
   },
   "outputs": [
    {
     "name": "stdout",
     "output_type": "stream",
     "text": [
      "(1459, 202) (1459, 202) (1459,)\n"
     ]
    }
   ],
   "source": [
    "print(final_train.shape, final_test.shape, y_train_final.shape)"
   ]
  },
  {
   "cell_type": "markdown",
   "id": "a1dcc1ab",
   "metadata": {
    "papermill": {
     "duration": 0.016576,
     "end_time": "2023-02-06T01:30:37.003853",
     "exception": false,
     "start_time": "2023-02-06T01:30:36.987277",
     "status": "completed"
    },
    "tags": []
   },
   "source": [
    "**Let's split our train dataframe into trainig and validation sets before building final model**"
   ]
  },
  {
   "cell_type": "code",
   "execution_count": 28,
   "id": "a836cb72",
   "metadata": {
    "execution": {
     "iopub.execute_input": "2023-02-06T01:30:37.040900Z",
     "iopub.status.busy": "2023-02-06T01:30:37.040438Z",
     "iopub.status.idle": "2023-02-06T01:30:37.052623Z",
     "shell.execute_reply": "2023-02-06T01:30:37.051274Z"
    },
    "papermill": {
     "duration": 0.033954,
     "end_time": "2023-02-06T01:30:37.055494",
     "exception": false,
     "start_time": "2023-02-06T01:30:37.021540",
     "status": "completed"
    },
    "tags": []
   },
   "outputs": [
    {
     "name": "stdout",
     "output_type": "stream",
     "text": [
      "(1094, 202) (365, 202) (1094,) (365,)\n"
     ]
    }
   ],
   "source": [
    "from sklearn.model_selection import train_test_split\n",
    "\n",
    "X_train, X_val, y_train, y_val = train_test_split(final_train, \n",
    "                                                  y_train_final,\n",
    "                                                  test_size=0.25,\n",
    "                                                  random_state=123)\n",
    "\n",
    "print(X_train.shape, X_val.shape, y_train.shape, y_val.shape)"
   ]
  },
  {
   "cell_type": "markdown",
   "id": "a792b097",
   "metadata": {
    "papermill": {
     "duration": 0.016623,
     "end_time": "2023-02-06T01:30:37.089722",
     "exception": false,
     "start_time": "2023-02-06T01:30:37.073099",
     "status": "completed"
    },
    "tags": []
   },
   "source": [
    "### 2. Building Base Regression Model \n",
    "- datasets `X_train`, `X_val`, `y_train`, `y_val` from above will be used for training model.\n",
    "- `LinearRegression`, `RandomForest` and `XGBoost` regression models are chosen.\n",
    "- We will train the models, evaluate them and choose the best model based on lowest RMSE value."
   ]
  },
  {
   "cell_type": "code",
   "execution_count": 29,
   "id": "1cb92c59",
   "metadata": {
    "execution": {
     "iopub.execute_input": "2023-02-06T01:30:37.126252Z",
     "iopub.status.busy": "2023-02-06T01:30:37.125547Z",
     "iopub.status.idle": "2023-02-06T01:31:09.092388Z",
     "shell.execute_reply": "2023-02-06T01:31:09.091474Z"
    },
    "papermill": {
     "duration": 32.008346,
     "end_time": "2023-02-06T01:31:09.114966",
     "exception": false,
     "start_time": "2023-02-06T01:30:37.106620",
     "status": "completed"
    },
    "tags": []
   },
   "outputs": [
    {
     "name": "stdout",
     "output_type": "stream",
     "text": [
      "RMSE Linear Regression:  1807774716.99\n",
      "RMSE RandomForest:  33221.79\n",
      "RMSE XGBoost: 30558.475606003376\n",
      "\n",
      "Linear Regression 10-Fold CV Mean Score: -47734701.33\n",
      "RandomForest 10-Fold CV Mean Score:  0.83\n",
      "XGBoost 10-Fold CV Mean Score:  0.80\n"
     ]
    }
   ],
   "source": [
    "# load required modules\n",
    "import xgboost as xgb\n",
    "from sklearn.ensemble import RandomForestRegressor\n",
    "from sklearn.linear_model import LinearRegression\n",
    "import numpy as np\n",
    "from sklearn.metrics import mean_squared_error, roc_auc_score\n",
    "from sklearn.model_selection import cross_val_score\n",
    "\n",
    "# Create the XGBoost and RandomForest Regressor\n",
    "lr_reg = LinearRegression()\n",
    "rf_reg = RandomForestRegressor()\n",
    "xgb_reg = xgb.XGBRegressor()\n",
    "\n",
    "\n",
    "# Fit the regressor to the training data\n",
    "lr_reg.fit(X_train, y_train)\n",
    "rf_reg.fit(X_train, y_train)\n",
    "xgb_reg.fit(X_train, y_train)\n",
    "\n",
    "\n",
    "# Make predictions on the validation data\n",
    "y_val_pred_lr = lr_reg.predict(X_val)\n",
    "y_val_pred_rf = rf_reg.predict(X_val)\n",
    "y_val_pred_xgb = xgb_reg.predict(X_val)\n",
    "\n",
    "\n",
    "# Compute RMSE\n",
    "lr_rmse = np.sqrt(mean_squared_error(y_val, y_val_pred_lr))\n",
    "rf_rmse = np.sqrt(mean_squared_error(y_val, y_val_pred_rf))\n",
    "xgb_rmse = np.sqrt(mean_squared_error(y_val, y_val_pred_xgb))\n",
    "\n",
    "# Cross-validate the model using 10-fold CV\n",
    "lr_cv_scores = cross_val_score(lr_reg, X_train, y_train, cv=10)\n",
    "rf_cv_scores = cross_val_score(rf_reg, X_train, y_train, cv=10)\n",
    "xgb_cv_scores = cross_val_score(xgb_reg, X_train, y_train, cv=10)\n",
    "\n",
    "# Print RMSE scores\n",
    "print(f\"RMSE Linear Regression: {lr_rmse: .2f}\")\n",
    "print(f\"RMSE RandomForest: {rf_rmse: .2f}\")\n",
    "print(f\"RMSE XGBoost: {xgb_rmse}\")\n",
    "print(\"\")\n",
    "print(f\"Linear Regression 10-Fold CV Mean Score: {np.mean(lr_cv_scores): .2f}\")\n",
    "print(f\"RandomForest 10-Fold CV Mean Score: {np.mean(rf_cv_scores): .2f}\")\n",
    "print(f\"XGBoost 10-Fold CV Mean Score: {np.mean(xgb_cv_scores): .2f}\")\n"
   ]
  },
  {
   "cell_type": "markdown",
   "id": "0c03e5b2",
   "metadata": {
    "papermill": {
     "duration": 0.017877,
     "end_time": "2023-02-06T01:31:09.150312",
     "exception": false,
     "start_time": "2023-02-06T01:31:09.132435",
     "status": "completed"
    },
    "tags": []
   },
   "source": [
    "**Inspecting Feature Importances**\n",
    "\n",
    "**1. Linear Regressor**"
   ]
  },
  {
   "cell_type": "code",
   "execution_count": 30,
   "id": "a70f6145",
   "metadata": {
    "execution": {
     "iopub.execute_input": "2023-02-06T01:31:09.186311Z",
     "iopub.status.busy": "2023-02-06T01:31:09.185897Z",
     "iopub.status.idle": "2023-02-06T01:31:09.196912Z",
     "shell.execute_reply": "2023-02-06T01:31:09.195686Z"
    },
    "papermill": {
     "duration": 0.032,
     "end_time": "2023-02-06T01:31:09.199442",
     "exception": false,
     "start_time": "2023-02-06T01:31:09.167442",
     "status": "completed"
    },
    "tags": []
   },
   "outputs": [
    {
     "name": "stdout",
     "output_type": "stream",
     "text": [
      "          Feature    Importance\n",
      "11    TotalBsmtSF  2.175225e+13\n",
      "12       1stFlrSF  9.544299e+11\n",
      "13       2ndFlrSF  9.544299e+11\n",
      "14   LowQualFinSF  9.544299e+11\n",
      "45   LotShape_IR3  1.994796e+11\n",
      "44   LotShape_IR2  1.994796e+11\n",
      "46   LotShape_Reg  1.994796e+11\n",
      "43   LotShape_IR1  1.994796e+11\n",
      "152  CentralAir_N  1.214982e+11\n",
      "153  CentralAir_Y  1.214982e+11\n"
     ]
    }
   ],
   "source": [
    "# Get feature importance scores\n",
    "lr_importance = lr_reg.coef_\n",
    "lr_importance_df = pd.DataFrame({'Feature': X_train.columns, 'Importance': lr_importance})\n",
    "lr_importance_df.sort_values(by='Importance', ascending=False, inplace=True)\n",
    "\n",
    "# Display top 10 most important features\n",
    "print(lr_importance_df.head(10))"
   ]
  },
  {
   "cell_type": "markdown",
   "id": "91144389",
   "metadata": {
    "papermill": {
     "duration": 0.016865,
     "end_time": "2023-02-06T01:31:09.233796",
     "exception": false,
     "start_time": "2023-02-06T01:31:09.216931",
     "status": "completed"
    },
    "tags": []
   },
   "source": [
    "**2. Random Forest Regressor**"
   ]
  },
  {
   "cell_type": "code",
   "execution_count": 31,
   "id": "ba2c79a8",
   "metadata": {
    "execution": {
     "iopub.execute_input": "2023-02-06T01:31:09.269724Z",
     "iopub.status.busy": "2023-02-06T01:31:09.269327Z",
     "iopub.status.idle": "2023-02-06T01:31:09.292576Z",
     "shell.execute_reply": "2023-02-06T01:31:09.290740Z"
    },
    "papermill": {
     "duration": 0.044239,
     "end_time": "2023-02-06T01:31:09.295211",
     "exception": false,
     "start_time": "2023-02-06T01:31:09.250972",
     "status": "completed"
    },
    "tags": []
   },
   "outputs": [
    {
     "name": "stdout",
     "output_type": "stream",
     "text": [
      "        Feature  Importance\n",
      "3   OverallQual    0.539520\n",
      "15    GrLivArea    0.116619\n",
      "11  TotalBsmtSF    0.053714\n",
      "8    BsmtFinSF1    0.049661\n",
      "13     2ndFlrSF    0.023650\n",
      "12     1stFlrSF    0.022121\n",
      "18     FullBath    0.019099\n",
      "26   GarageArea    0.017978\n",
      "5     YearBuilt    0.011751\n",
      "2       LotArea    0.010788\n"
     ]
    }
   ],
   "source": [
    "# Get feature importance scores\n",
    "rf_importance = rf_reg.feature_importances_\n",
    "rf_importance_df = pd.DataFrame({'Feature': X_train.columns, 'Importance': rf_importance})\n",
    "rf_importance_df.sort_values(by='Importance', ascending=False, inplace=True)\n",
    "\n",
    "# Display top 10 most important features\n",
    "print(rf_importance_df.head(10))"
   ]
  },
  {
   "cell_type": "markdown",
   "id": "bb26c734",
   "metadata": {
    "papermill": {
     "duration": 0.017098,
     "end_time": "2023-02-06T01:31:09.330364",
     "exception": false,
     "start_time": "2023-02-06T01:31:09.313266",
     "status": "completed"
    },
    "tags": []
   },
   "source": [
    "**3. XGBoost Regressor**"
   ]
  },
  {
   "cell_type": "code",
   "execution_count": 32,
   "id": "5878c1a8",
   "metadata": {
    "execution": {
     "iopub.execute_input": "2023-02-06T01:31:09.366564Z",
     "iopub.status.busy": "2023-02-06T01:31:09.366122Z",
     "iopub.status.idle": "2023-02-06T01:31:09.378549Z",
     "shell.execute_reply": "2023-02-06T01:31:09.377097Z"
    },
    "papermill": {
     "duration": 0.033719,
     "end_time": "2023-02-06T01:31:09.381233",
     "exception": false,
     "start_time": "2023-02-06T01:31:09.347514",
     "status": "completed"
    },
    "tags": []
   },
   "outputs": [
    {
     "name": "stdout",
     "output_type": "stream",
     "text": [
      "        Feature  Importance\n",
      "1   LotFrontage       297.0\n",
      "2       LotArea       284.0\n",
      "0    MSSubClass       197.0\n",
      "10    BsmtUnfSF       152.0\n",
      "15    GrLivArea       148.0\n",
      "11  TotalBsmtSF       134.0\n",
      "8    BsmtFinSF1       122.0\n",
      "5     YearBuilt       118.0\n",
      "26   GarageArea       110.0\n",
      "12     1stFlrSF       100.0\n"
     ]
    }
   ],
   "source": [
    "# Get feature importance scores\n",
    "xgb_importance = xgb_reg.get_booster().get_score(importance_type='weight')\n",
    "xgb_importance_df = pd.DataFrame({'Feature': list(xgb_importance.keys()), \n",
    "                                  'Importance': list(xgb_importance.values())})\n",
    "xgb_importance_df.sort_values(by='Importance', ascending=False, inplace=True)\n",
    "\n",
    "# Display top 10 most important features\n",
    "print(xgb_importance_df.head(10))"
   ]
  },
  {
   "cell_type": "markdown",
   "id": "2605589c",
   "metadata": {
    "papermill": {
     "duration": 0.017273,
     "end_time": "2023-02-06T01:31:09.416116",
     "exception": false,
     "start_time": "2023-02-06T01:31:09.398843",
     "status": "completed"
    },
    "tags": []
   },
   "source": [
    "### 3. Performing Hyperparameter Tuning\n",
    "\n",
    "Since `XGBoost Regressor` performed best, we will use it as the **final submission model**. \n",
    "\n",
    "Here are XGBoost's best_paramaters from GridSearch.\n",
    "- learning_rate=0.1\n",
    "- max_depth=2\n",
    "- n_estimators=300\n",
    "- reg_alpha=0.5"
   ]
  },
  {
   "cell_type": "markdown",
   "id": "a5013bb9",
   "metadata": {
    "papermill": {
     "duration": 0.017082,
     "end_time": "2023-02-06T01:31:09.451430",
     "exception": false,
     "start_time": "2023-02-06T01:31:09.434348",
     "status": "completed"
    },
    "tags": []
   },
   "source": [
    "**Using GridSearch results to tune hyperparameters**\n",
    "- models to use `RandomForestRegressor` and `XGBRegressor`\n",
    "- so far `XGBoost` has the lowest RMSE value (best model so far).\n",
    "\n",
    "Let's see if hyperparameter tunning improves the two models. "
   ]
  },
  {
   "cell_type": "code",
   "execution_count": 33,
   "id": "ec806ec5",
   "metadata": {
    "execution": {
     "iopub.execute_input": "2023-02-06T01:31:09.487820Z",
     "iopub.status.busy": "2023-02-06T01:31:09.487421Z",
     "iopub.status.idle": "2023-02-06T01:31:40.475916Z",
     "shell.execute_reply": "2023-02-06T01:31:40.474671Z"
    },
    "papermill": {
     "duration": 31.027426,
     "end_time": "2023-02-06T01:31:40.496095",
     "exception": false,
     "start_time": "2023-02-06T01:31:09.468669",
     "status": "completed"
    },
    "tags": []
   },
   "outputs": [
    {
     "name": "stdout",
     "output_type": "stream",
     "text": [
      "RMSE RandomForest:  34818.02\n",
      "RMSE XGBoost: 27525.935790238887\n",
      "\n",
      "RandomForest 10-Fold CV Mean Score:  0.83\n",
      "XGBoost 10-Fold CV Mean Score:  0.83\n"
     ]
    }
   ],
   "source": [
    "# load required modules\n",
    "import xgboost as xgb\n",
    "from sklearn.ensemble import RandomForestRegressor\n",
    "import numpy as np\n",
    "from sklearn.metrics import mean_squared_error, roc_auc_score\n",
    "from sklearn.model_selection import cross_val_score\n",
    "\n",
    "# Create the XGBoost and RandomForest Regressor\n",
    "xgb_reg = xgb.XGBRegressor(learning_rate=0.1,\n",
    "                           max_depth=3,\n",
    "                           n_estimators=300,\n",
    "                           reg_alpha= 0.5)\n",
    "\n",
    "rf_reg = RandomForestRegressor(max_depth=7,\n",
    "                               min_samples_split=5,\n",
    "                               n_estimators=100)\n",
    "\n",
    "# Fit the regressor to the training data\n",
    "xgb_reg.fit(X_train, y_train)\n",
    "rf_reg.fit(X_train, y_train)\n",
    "\n",
    "# Make predictions on the validation data\n",
    "y_val_pred_xgb = xgb_reg.predict(X_val)\n",
    "y_val_pred_rf = rf_reg.predict(X_val)\n",
    "\n",
    "# Compute RMSE\n",
    "xgb_rmse = np.sqrt(mean_squared_error(y_val, y_val_pred_xgb))\n",
    "rf_rmse = np.sqrt(mean_squared_error(y_val, y_val_pred_rf))\n",
    "\n",
    "# Cross-validate the model using 10-fold CV\n",
    "xgb_cv_scores = cross_val_score(xgb_reg, X_train, y_train, cv=10)\n",
    "rf_cv_scores = cross_val_score(rf_reg, X_train, y_train, cv=10)\n",
    "\n",
    "# Print RMSE scores\n",
    "print(f\"RMSE RandomForest: {rf_rmse: .2f}\")\n",
    "print(f\"RMSE XGBoost: {xgb_rmse}\")\n",
    "print(\"\")\n",
    "print(f\"RandomForest 10-Fold CV Mean Score: {np.mean(rf_cv_scores): .2f}\")\n",
    "print(f\"XGBoost 10-Fold CV Mean Score: {np.mean(xgb_cv_scores): .2f}\")\n"
   ]
  },
  {
   "cell_type": "markdown",
   "id": "dd067414",
   "metadata": {
    "papermill": {
     "duration": 0.017761,
     "end_time": "2023-02-06T01:31:40.533032",
     "exception": false,
     "start_time": "2023-02-06T01:31:40.515271",
     "status": "completed"
    },
    "tags": []
   },
   "source": [
    "Both `RMSE` and `model scores` improved after tunning the hyperparameters.\n",
    "\n",
    "****Extracting Important Features****"
   ]
  },
  {
   "cell_type": "code",
   "execution_count": 34,
   "id": "ca63b444",
   "metadata": {
    "execution": {
     "iopub.execute_input": "2023-02-06T01:31:40.570060Z",
     "iopub.status.busy": "2023-02-06T01:31:40.569324Z",
     "iopub.status.idle": "2023-02-06T01:31:40.591534Z",
     "shell.execute_reply": "2023-02-06T01:31:40.590141Z"
    },
    "papermill": {
     "duration": 0.044193,
     "end_time": "2023-02-06T01:31:40.594891",
     "exception": false,
     "start_time": "2023-02-06T01:31:40.550698",
     "status": "completed"
    },
    "tags": []
   },
   "outputs": [
    {
     "name": "stdout",
     "output_type": "stream",
     "text": [
      "              Feature  Importance\n",
      "3         OverallQual    0.575125\n",
      "15          GrLivArea    0.109009\n",
      "8          BsmtFinSF1    0.058491\n",
      "11        TotalBsmtSF    0.042662\n",
      "13           2ndFlrSF    0.022801\n",
      "12           1stFlrSF    0.022376\n",
      "18           FullBath    0.019425\n",
      "26         GarageArea    0.015811\n",
      "5           YearBuilt    0.010229\n",
      "2             LotArea    0.010151\n",
      "178  GarageFinish_Unf    0.008291\n",
      "25         GarageCars    0.007833\n",
      "123       BsmtQual_Ex    0.007521\n",
      "6        YearRemodAdd    0.006520\n",
      "1         LotFrontage    0.005785\n",
      "22       TotRmsAbvGrd    0.004374\n",
      "10          BsmtUnfSF    0.004060\n",
      "7          MasVnrArea    0.003973\n",
      "23         Fireplaces    0.003807\n",
      "28        OpenPorchSF    0.003208\n"
     ]
    }
   ],
   "source": [
    "# Get feature importance scores\n",
    "rf_importance = rf_reg.feature_importances_\n",
    "rf_importance_df = pd.DataFrame({'Feature': X_train.columns, 'Importance': rf_importance})\n",
    "rf_importance_df.sort_values(by='Importance', ascending=False, inplace=True)\n",
    "\n",
    "# Display top 20 most important features\n",
    "print(rf_importance_df.head(20))"
   ]
  },
  {
   "cell_type": "code",
   "execution_count": 35,
   "id": "306b6b5e",
   "metadata": {
    "execution": {
     "iopub.execute_input": "2023-02-06T01:31:40.632249Z",
     "iopub.status.busy": "2023-02-06T01:31:40.631548Z",
     "iopub.status.idle": "2023-02-06T01:31:40.643736Z",
     "shell.execute_reply": "2023-02-06T01:31:40.642542Z"
    },
    "papermill": {
     "duration": 0.033175,
     "end_time": "2023-02-06T01:31:40.646176",
     "exception": false,
     "start_time": "2023-02-06T01:31:40.613001",
     "status": "completed"
    },
    "tags": []
   },
   "outputs": [
    {
     "name": "stdout",
     "output_type": "stream",
     "text": [
      "         Feature  Importance\n",
      "15     GrLivArea       122.0\n",
      "2        LotArea       112.0\n",
      "8     BsmtFinSF1       107.0\n",
      "26    GarageArea        93.0\n",
      "3    OverallQual        91.0\n",
      "1    LotFrontage        88.0\n",
      "0     MSSubClass        71.0\n",
      "10     BsmtUnfSF        66.0\n",
      "12      1stFlrSF        66.0\n",
      "11   TotalBsmtSF        58.0\n",
      "5      YearBuilt        58.0\n",
      "4    OverallCond        54.0\n",
      "24   GarageYrBlt        52.0\n",
      "28   OpenPorchSF        44.0\n",
      "27    WoodDeckSF        44.0\n",
      "9     BsmtFinSF2        40.0\n",
      "7     MasVnrArea        36.0\n",
      "13      2ndFlrSF        34.0\n",
      "6   YearRemodAdd        32.0\n",
      "23    Fireplaces        25.0\n"
     ]
    }
   ],
   "source": [
    "# Get feature importance scores\n",
    "xgb_importance = xgb_reg.get_booster().get_score(importance_type='weight')\n",
    "xgb_importance_df = pd.DataFrame({'Feature': list(xgb_importance.keys()), \n",
    "                                  'Importance': list(xgb_importance.values())})\n",
    "xgb_importance_df.sort_values(by='Importance', ascending=False, inplace=True)\n",
    "\n",
    "# Display top 20 most important features\n",
    "print(xgb_importance_df.head(20))"
   ]
  },
  {
   "cell_type": "markdown",
   "id": "4b50e51b",
   "metadata": {
    "papermill": {
     "duration": 0.017105,
     "end_time": "2023-02-06T01:31:40.680740",
     "exception": false,
     "start_time": "2023-02-06T01:31:40.663635",
     "status": "completed"
    },
    "tags": []
   },
   "source": [
    "### 4. Perfoming PCA and Final Model Training \n",
    "- PCA will reduce the number of features"
   ]
  },
  {
   "cell_type": "code",
   "execution_count": 36,
   "id": "32c311b7",
   "metadata": {
    "execution": {
     "iopub.execute_input": "2023-02-06T01:31:40.717903Z",
     "iopub.status.busy": "2023-02-06T01:31:40.717489Z",
     "iopub.status.idle": "2023-02-06T01:31:42.318131Z",
     "shell.execute_reply": "2023-02-06T01:31:42.316910Z"
    },
    "papermill": {
     "duration": 1.62249,
     "end_time": "2023-02-06T01:31:42.320745",
     "exception": false,
     "start_time": "2023-02-06T01:31:40.698255",
     "status": "completed"
    },
    "tags": []
   },
   "outputs": [
    {
     "name": "stdout",
     "output_type": "stream",
     "text": [
      "Successfully created predictions and is saved to \"submission.csv\" file\n"
     ]
    }
   ],
   "source": [
    "from sklearn.decomposition import PCA\n",
    "from sklearn.preprocessing import StandardScaler\n",
    "import xgboost as xgb\n",
    "\n",
    "# Scale the data\n",
    "scaler = StandardScaler()\n",
    "X_train_scaled = scaler.fit_transform(final_train)\n",
    "X_test_scaled = scaler.transform(final_test)\n",
    "\n",
    "# Perform PCA\n",
    "pca = PCA(n_components=20) # set n_components to 20\n",
    "X_train_pca = pca.fit_transform(X_train_scaled)\n",
    "X_test_pca = pca.transform(X_test_scaled)\n",
    "\n",
    "X_test_submit = pd.DataFrame(X_test_pca,\n",
    "                          columns=['PC_'+str(i+1) for i in range(20)],\n",
    "                          index=final_test.index)\n",
    "X_train_submit = pd.DataFrame(X_train_pca,\n",
    "                          columns=['PC_'+str(i+1) for i in range(20)],\n",
    "                          index=final_train.index)\n",
    "\n",
    "# train XGBoost model\n",
    "model = xgb.XGBRegressor(learning_rate=0.1,\n",
    "                         max_depth=2,\n",
    "                         n_estimators=300,\n",
    "                         reg_alpha= 0.5)\n",
    "\n",
    "model.fit(X_train_pca, y_train_final)\n",
    "\n",
    "# Predict using the test set\n",
    "y_pred = model.predict(X_test_submit)\n",
    "\n",
    "# save the predictions to a CSV file\n",
    "output = pd.DataFrame({'Id': X_test_submit.index+1461, 'SalePrice': y_pred})\n",
    "output.to_csv('submission.csv', index=False)\n",
    "\n",
    "print('Successfully created predictions and is saved to \"submission.csv\" file')\n"
   ]
  },
  {
   "cell_type": "code",
   "execution_count": 37,
   "id": "a7e9878a",
   "metadata": {
    "execution": {
     "iopub.execute_input": "2023-02-06T01:31:42.358849Z",
     "iopub.status.busy": "2023-02-06T01:31:42.357927Z",
     "iopub.status.idle": "2023-02-06T01:31:42.363251Z",
     "shell.execute_reply": "2023-02-06T01:31:42.362453Z"
    },
    "papermill": {
     "duration": 0.027112,
     "end_time": "2023-02-06T01:31:42.366069",
     "exception": false,
     "start_time": "2023-02-06T01:31:42.338957",
     "status": "completed"
    },
    "tags": []
   },
   "outputs": [
    {
     "name": "stdout",
     "output_type": "stream",
     "text": [
      "(1459, 20) (1459, 20)\n"
     ]
    }
   ],
   "source": [
    "print(X_train_submit.shape, X_test_submit.shape)"
   ]
  },
  {
   "cell_type": "code",
   "execution_count": 38,
   "id": "55aca42e",
   "metadata": {
    "execution": {
     "iopub.execute_input": "2023-02-06T01:31:42.404503Z",
     "iopub.status.busy": "2023-02-06T01:31:42.404091Z",
     "iopub.status.idle": "2023-02-06T01:31:42.413487Z",
     "shell.execute_reply": "2023-02-06T01:31:42.411948Z"
    },
    "papermill": {
     "duration": 0.03114,
     "end_time": "2023-02-06T01:31:42.416074",
     "exception": false,
     "start_time": "2023-02-06T01:31:42.384934",
     "status": "completed"
    },
    "tags": []
   },
   "outputs": [
    {
     "name": "stdout",
     "output_type": "stream",
     "text": [
      "(1459, 2)\n"
     ]
    }
   ],
   "source": [
    "submission_df = pd.read_csv(\"/kaggle/working/submission.csv\")\n",
    "print(submission_df.shape)"
   ]
  },
  {
   "cell_type": "code",
   "execution_count": 39,
   "id": "cd68d20f",
   "metadata": {
    "execution": {
     "iopub.execute_input": "2023-02-06T01:31:42.454265Z",
     "iopub.status.busy": "2023-02-06T01:31:42.453826Z",
     "iopub.status.idle": "2023-02-06T01:31:42.464748Z",
     "shell.execute_reply": "2023-02-06T01:31:42.463652Z"
    },
    "papermill": {
     "duration": 0.033251,
     "end_time": "2023-02-06T01:31:42.467022",
     "exception": false,
     "start_time": "2023-02-06T01:31:42.433771",
     "status": "completed"
    },
    "tags": []
   },
   "outputs": [
    {
     "data": {
      "text/html": [
       "<div>\n",
       "<style scoped>\n",
       "    .dataframe tbody tr th:only-of-type {\n",
       "        vertical-align: middle;\n",
       "    }\n",
       "\n",
       "    .dataframe tbody tr th {\n",
       "        vertical-align: top;\n",
       "    }\n",
       "\n",
       "    .dataframe thead th {\n",
       "        text-align: right;\n",
       "    }\n",
       "</style>\n",
       "<table border=\"1\" class=\"dataframe\">\n",
       "  <thead>\n",
       "    <tr style=\"text-align: right;\">\n",
       "      <th></th>\n",
       "      <th>Id</th>\n",
       "      <th>SalePrice</th>\n",
       "    </tr>\n",
       "  </thead>\n",
       "  <tbody>\n",
       "    <tr>\n",
       "      <th>0</th>\n",
       "      <td>1461</td>\n",
       "      <td>119158.39</td>\n",
       "    </tr>\n",
       "    <tr>\n",
       "      <th>1</th>\n",
       "      <td>1462</td>\n",
       "      <td>152505.40</td>\n",
       "    </tr>\n",
       "    <tr>\n",
       "      <th>2</th>\n",
       "      <td>1463</td>\n",
       "      <td>176377.72</td>\n",
       "    </tr>\n",
       "    <tr>\n",
       "      <th>3</th>\n",
       "      <td>1464</td>\n",
       "      <td>222163.78</td>\n",
       "    </tr>\n",
       "    <tr>\n",
       "      <th>4</th>\n",
       "      <td>1465</td>\n",
       "      <td>180495.11</td>\n",
       "    </tr>\n",
       "  </tbody>\n",
       "</table>\n",
       "</div>"
      ],
      "text/plain": [
       "     Id  SalePrice\n",
       "0  1461  119158.39\n",
       "1  1462  152505.40\n",
       "2  1463  176377.72\n",
       "3  1464  222163.78\n",
       "4  1465  180495.11"
      ]
     },
     "execution_count": 39,
     "metadata": {},
     "output_type": "execute_result"
    }
   ],
   "source": [
    "submission_df.head()"
   ]
  }
 ],
 "metadata": {
  "kernelspec": {
   "display_name": "Python 3",
   "language": "python",
   "name": "python3"
  },
  "language_info": {
   "codemirror_mode": {
    "name": "ipython",
    "version": 3
   },
   "file_extension": ".py",
   "mimetype": "text/x-python",
   "name": "python",
   "nbconvert_exporter": "python",
   "pygments_lexer": "ipython3",
   "version": "3.7.12"
  },
  "papermill": {
   "default_parameters": {},
   "duration": 79.208519,
   "end_time": "2023-02-06T01:31:43.307944",
   "environment_variables": {},
   "exception": null,
   "input_path": "__notebook__.ipynb",
   "output_path": "__notebook__.ipynb",
   "parameters": {},
   "start_time": "2023-02-06T01:30:24.099425",
   "version": "2.3.4"
  }
 },
 "nbformat": 4,
 "nbformat_minor": 5
}
