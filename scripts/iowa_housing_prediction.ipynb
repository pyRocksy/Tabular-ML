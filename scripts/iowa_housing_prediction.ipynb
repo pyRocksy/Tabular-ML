{
 "cells": [
  {
   "cell_type": "markdown",
   "id": "378b2ce5",
   "metadata": {
    "papermill": {
     "duration": 0.018251,
     "end_time": "2023-02-06T01:30:33.068103",
     "exception": false,
     "start_time": "2023-02-06T01:30:33.049852",
     "status": "completed"
    },
    "tags": []
   },
   "source": [
    "### Ames Housing Price Prediction\n"
   ]
  },
  {
   "cell_type": "markdown",
   "id": "ef3fb565",
   "metadata": {
    "papermill": {
     "duration": 0.01354,
     "end_time": "2023-02-06T01:30:33.098515",
     "exception": false,
     "start_time": "2023-02-06T01:30:33.084975",
     "status": "completed"
    },
    "tags": []
   },
   "source": [
    "**Setting the Kaggle environment**"
   ]
  },
  {
   "cell_type": "code",
   "execution_count": null,
   "id": "b239a72a",
   "metadata": {
    "_cell_guid": "b1076dfc-b9ad-4769-8c92-a6c4dae69d19",
    "_uuid": "8f2839f25d086af736a60e9eeb907d3b93b6e0e5",
    "execution": {
     "iopub.execute_input": "2023-02-06T01:30:33.129603Z",
     "iopub.status.busy": "2023-02-06T01:30:33.128569Z",
     "iopub.status.idle": "2023-02-06T01:30:33.144371Z",
     "shell.execute_reply": "2023-02-06T01:30:33.143107Z"
    },
    "papermill": {
     "duration": 0.035808,
     "end_time": "2023-02-06T01:30:33.148183",
     "exception": false,
     "start_time": "2023-02-06T01:30:33.112375",
     "status": "completed"
    },
    "tags": []
   },
   "outputs": [],
   "source": [
    "# This Python 3 environment comes with many helpful analytics libraries installed\n",
    "# It is defined by the kaggle/python Docker image: https://github.com/kaggle/docker-python\n",
    "\n",
    "# Input data files are available in the read-only \"../input/\" directory\n",
    "\n",
    "import os\n",
    "for dirname, _, filenames in os.walk('/kaggle/input'):\n",
    "    for filename in filenames:\n",
    "        print(os.path.join(dirname, filename))\n"
   ]
  },
  {
   "cell_type": "markdown",
   "id": "c3b775ce",
   "metadata": {
    "papermill": {
     "duration": 0.014012,
     "end_time": "2023-02-06T01:30:33.177316",
     "exception": false,
     "start_time": "2023-02-06T01:30:33.163304",
     "status": "completed"
    },
    "tags": []
   },
   "source": [
    "**Loading modules and data**"
   ]
  },
  {
   "cell_type": "code",
   "execution_count": null,
   "id": "c70ddc3f",
   "metadata": {
    "execution": {
     "iopub.execute_input": "2023-02-06T01:30:33.208459Z",
     "iopub.status.busy": "2023-02-06T01:30:33.207697Z",
     "iopub.status.idle": "2023-02-06T01:30:34.875536Z",
     "shell.execute_reply": "2023-02-06T01:30:34.873425Z"
    },
    "papermill": {
     "duration": 1.686473,
     "end_time": "2023-02-06T01:30:34.878156",
     "exception": false,
     "start_time": "2023-02-06T01:30:33.191683",
     "status": "completed"
    },
    "tags": []
   },
   "outputs": [],
   "source": [
    "# import libraries\n",
    "import pandas as pd\n",
    "from sklearn.linear_model import LinearRegression\n",
    "from sklearn.ensemble import RandomForestRegressor\n",
    "from sklearn.model_selection import train_test_split\n",
    "from sklearn.metrics import mean_absolute_error\n",
    "from sklearn.impute import SimpleImputer\n",
    "from sklearn.preprocessing import StandardScaler, OneHotEncoder\n",
    "import numpy as np\n",
    "import matplotlib.pyplot as plt\n",
    "import matplotlib_inline\n",
    "import seaborn as sns\n",
    "import warnings\n",
    "warnings.filterwarnings(\"ignore\")\n",
    "\n",
    "# Load the data\n",
    "train_data = pd.read_csv(\"/kaggle/input/home-data-for-ml-course/train.csv\")\n",
    "# print(type(train_data))\n",
    "df_train = train_data.copy()\n",
    "\n",
    "test_data = pd.read_csv(\"/kaggle/input/home-data-for-ml-course/test.csv\")\n",
    "# print(type(test_data))\n",
    "df_test = test_data.copy()\n",
    "\n",
    "print(df_train.shape)\n",
    "print(df_test.shape)"
   ]
  },
  {
   "cell_type": "markdown",
   "id": "284cacf0",
   "metadata": {
    "papermill": {
     "duration": 0.014681,
     "end_time": "2023-02-06T01:30:34.908685",
     "exception": false,
     "start_time": "2023-02-06T01:30:34.894004",
     "status": "completed"
    },
    "tags": []
   },
   "source": [
    "Since the X_train and df_test are not the same size, I will drop one X_train row that has the most missing value count. "
   ]
  },
  {
   "cell_type": "code",
   "execution_count": null,
   "id": "34e62eca",
   "metadata": {
    "execution": {
     "iopub.execute_input": "2023-02-06T01:30:34.939804Z",
     "iopub.status.busy": "2023-02-06T01:30:34.939323Z",
     "iopub.status.idle": "2023-02-06T01:30:34.970721Z",
     "shell.execute_reply": "2023-02-06T01:30:34.969349Z"
    },
    "papermill": {
     "duration": 0.050786,
     "end_time": "2023-02-06T01:30:34.974214",
     "exception": false,
     "start_time": "2023-02-06T01:30:34.923428",
     "status": "completed"
    },
    "tags": []
   },
   "outputs": [],
   "source": [
    "# Calculate the number of missing values in each row\n",
    "missing_values_per_row = df_train.isna().sum(axis=1)\n",
    "# print(missing_values_per_row)\n",
    "\n",
    "# Add the missing values count as a new column\n",
    "df_train['missing_count'] = missing_values_per_row\n",
    "# X_train['missing_count']\n",
    "\n",
    "# # Sort the DataFrame by the missing count column\n",
    "df_train.sort_values(by='missing_count', ascending=False, inplace=True)\n",
    "\n",
    "# Drop the row with the most missing values\n",
    "df_train.drop(df_train.index[0], axis=0, inplace=True)\n",
    "df_train.drop('missing_count', axis=1, inplace=True)"
   ]
  },
  {
   "cell_type": "markdown",
   "id": "cc7cb96b",
   "metadata": {
    "papermill": {
     "duration": 0.014078,
     "end_time": "2023-02-06T01:30:35.002351",
     "exception": false,
     "start_time": "2023-02-06T01:30:34.988273",
     "status": "completed"
    },
    "tags": []
   },
   "source": [
    "### 1. Preprocessing training and testing datasets"
   ]
  },
  {
   "cell_type": "markdown",
   "id": "a74bb146",
   "metadata": {
    "papermill": {
     "duration": 0.01381,
     "end_time": "2023-02-06T01:30:35.030421",
     "exception": false,
     "start_time": "2023-02-06T01:30:35.016611",
     "status": "completed"
    },
    "tags": []
   },
   "source": [
    "**Looking at non-null values**"
   ]
  },
  {
   "cell_type": "code",
   "execution_count": null,
   "id": "986cab34",
   "metadata": {
    "execution": {
     "iopub.execute_input": "2023-02-06T01:30:35.061599Z",
     "iopub.status.busy": "2023-02-06T01:30:35.061162Z",
     "iopub.status.idle": "2023-02-06T01:30:35.089637Z",
     "shell.execute_reply": "2023-02-06T01:30:35.088429Z"
    },
    "papermill": {
     "duration": 0.04905,
     "end_time": "2023-02-06T01:30:35.094023",
     "exception": false,
     "start_time": "2023-02-06T01:30:35.044973",
     "status": "completed"
    },
    "tags": []
   },
   "outputs": [],
   "source": [
    "df_train.info()"
   ]
  },
  {
   "cell_type": "code",
   "execution_count": null,
   "id": "8af9a018",
   "metadata": {
    "execution": {
     "iopub.execute_input": "2023-02-06T01:30:35.126488Z",
     "iopub.status.busy": "2023-02-06T01:30:35.125261Z",
     "iopub.status.idle": "2023-02-06T01:30:35.147498Z",
     "shell.execute_reply": "2023-02-06T01:30:35.145776Z"
    },
    "papermill": {
     "duration": 0.041619,
     "end_time": "2023-02-06T01:30:35.151199",
     "exception": false,
     "start_time": "2023-02-06T01:30:35.109580",
     "status": "completed"
    },
    "tags": []
   },
   "outputs": [],
   "source": [
    "df_test.info()"
   ]
  },
  {
   "cell_type": "markdown",
   "id": "4323df96",
   "metadata": {
    "papermill": {
     "duration": 0.014147,
     "end_time": "2023-02-06T01:30:35.179845",
     "exception": false,
     "start_time": "2023-02-06T01:30:35.165698",
     "status": "completed"
    },
    "tags": []
   },
   "source": [
    "**Looking at columns with missing values**"
   ]
  },
  {
   "cell_type": "code",
   "execution_count": null,
   "id": "bf987323",
   "metadata": {
    "execution": {
     "iopub.execute_input": "2023-02-06T01:30:35.210953Z",
     "iopub.status.busy": "2023-02-06T01:30:35.210281Z",
     "iopub.status.idle": "2023-02-06T01:30:35.242280Z",
     "shell.execute_reply": "2023-02-06T01:30:35.240973Z"
    },
    "papermill": {
     "duration": 0.050719,
     "end_time": "2023-02-06T01:30:35.245098",
     "exception": false,
     "start_time": "2023-02-06T01:30:35.194379",
     "status": "completed"
    },
    "tags": []
   },
   "outputs": [],
   "source": [
    "missing_value_cols_train = df_train.columns[df_train.isnull().sum() > 0]\n",
    "missing_value_cols_test = df_test.columns[df_test.isnull().sum() > 0]\n",
    "\n",
    "common_cols = list(set(missing_value_cols_train) | set(missing_value_cols_test))\n",
    "\n",
    "df_missing = pd.DataFrame({'df_train': df_train[common_cols].isnull().sum(),\n",
    "                 'X-test': df_test[common_cols].isnull().sum(),\n",
    "                 'Data Type': df_train[common_cols].dtypes})\n",
    "\n",
    "print(df_missing.sort_values(\"df_train\", ascending=False))"
   ]
  },
  {
   "cell_type": "markdown",
   "id": "277f9db1",
   "metadata": {
    "papermill": {
     "duration": 0.014187,
     "end_time": "2023-02-06T01:30:35.274309",
     "exception": false,
     "start_time": "2023-02-06T01:30:35.260122",
     "status": "completed"
    },
    "tags": []
   },
   "source": [
    "**Assesing numerical columns with missing values**\n",
    "* LotFrontage - We will replace missing values by mean.       259     227   float64\n",
    "* GarageYrBlt  - We will replace missing values by mode.      81      78   float64\n",
    "* MasVnrArea   - We will replace missing values by mean.        8      15   float64\n",
    "* GarageCars   - We will replace missing values by median.        0       1     int64\n",
    "* BsmtFinSF2   - We will replace missing values by median.        0       1     int64\n",
    "* BsmtFinSF1   - We will replace missing values by median.         0       1     int64\n",
    "* BsmtUnfSF    - We will replace missing values by median.        0       1     int64\n",
    "* BsmtHalfBath - We will replace missing values by median.        0       2     int64\n",
    "* TotalBsmtSF  - We will replace missing values by median.        0       1     int64\n",
    "* GarageArea   - We will replace missing values by mean.        0       1     int64\n",
    "* BsmtFullBath - We will replace missing values by median.        0       2     int64\n",
    "\n",
    "**Assesing categorical columns with missing values**\n",
    "* PoolQC      - we will drop this column.     1453    1456    object\n",
    "* MiscFeature - we will drop this column.      1406    1408    object\n",
    "* Alley       - we will drop this column.     1369    1352    object\n",
    "* Fence       - we will drop this column.      1179    1169    object\n",
    "* FireplaceQu - We will replace missing values by mode.       690     730    object\n",
    "* GarageQual  - We will replace missing values by mode.        81      78    object\n",
    "* GarageType  - We will replace missing values by mode.       81      76     object\n",
    "* GarageCond  - We will replace missing values by mode.       81      78     object\n",
    "* GarageFinish - We will replace missing values by mode.        81      78   object\n",
    "* BsmtFinType2 - We will replace missing values by mode.      38      42     object\n",
    "* BsmtExposure - We will replace missing values by mode.      38      44     object\n",
    "* BsmtFinType1 - We will replace missing values by mode.      37      42     object\n",
    "* BsmtCond     - We will replace missing values by mode.       37      45    object\n",
    "* BsmtQual     - We will replace missing values by mode.       37      44    object\n",
    "* MasVnrType   - We will replace missing values by mode.        8      16    object\n",
    "* Electrical   - We will replace missing values by mode.        1       0    object\n",
    "* Utilities    - We will replace missing values by mode.        0       2    object\n",
    "* Functional   - We will replace missing values by mode.        0       2    object\n",
    "* SaleType     - We will replace missing values by mode.        0       1    object\n",
    "* MSZoning     - We will replace missing values by mode.        0       4    object\n",
    "* Exterior2nd  - We will replace missing values by mode.        0       1    object\n",
    "* Exterior1st  - We will replace missing values by mode.        0       1    object\n",
    "* KitchenQual  - We will replace missing values by mode.        0       1    object\n",
    "\n",
    "\n"
   ]
  },
  {
   "cell_type": "markdown",
   "id": "eb0bf7d6",
   "metadata": {
    "papermill": {
     "duration": 0.014359,
     "end_time": "2023-02-06T01:30:35.303527",
     "exception": false,
     "start_time": "2023-02-06T01:30:35.289168",
     "status": "completed"
    },
    "tags": []
   },
   "source": [
    "**Dropping Columns**"
   ]
  },
  {
   "cell_type": "code",
   "execution_count": null,
   "id": "c8bc839b",
   "metadata": {
    "execution": {
     "iopub.execute_input": "2023-02-06T01:30:35.334440Z",
     "iopub.status.busy": "2023-02-06T01:30:35.334026Z",
     "iopub.status.idle": "2023-02-06T01:30:35.345299Z",
     "shell.execute_reply": "2023-02-06T01:30:35.344154Z"
    },
    "papermill": {
     "duration": 0.029453,
     "end_time": "2023-02-06T01:30:35.347659",
     "exception": false,
     "start_time": "2023-02-06T01:30:35.318206",
     "status": "completed"
    },
    "tags": []
   },
   "outputs": [],
   "source": [
    "df_train.drop(['Id', 'PoolQC', 'MiscFeature', 'Alley', 'Fence'], axis=1, inplace=True)\n",
    "print(len(df_train.columns))\n",
    "\n",
    "df_test.drop(['Id', 'PoolQC', 'MiscFeature', 'Alley', 'Fence'], axis=1, inplace=True)\n",
    "print(len(df_test.columns))"
   ]
  },
  {
   "cell_type": "code",
   "execution_count": null,
   "id": "9c14a2a5",
   "metadata": {
    "execution": {
     "iopub.execute_input": "2023-02-06T01:30:35.379329Z",
     "iopub.status.busy": "2023-02-06T01:30:35.378862Z",
     "iopub.status.idle": "2023-02-06T01:30:35.384894Z",
     "shell.execute_reply": "2023-02-06T01:30:35.383663Z"
    },
    "papermill": {
     "duration": 0.024949,
     "end_time": "2023-02-06T01:30:35.387385",
     "exception": false,
     "start_time": "2023-02-06T01:30:35.362436",
     "status": "completed"
    },
    "tags": []
   },
   "outputs": [],
   "source": [
    "print(df_train.shape)\n",
    "print(df_test.shape)"
   ]
  },
  {
   "cell_type": "markdown",
   "id": "5a165c59",
   "metadata": {
    "papermill": {
     "duration": 0.014388,
     "end_time": "2023-02-06T01:30:35.416865",
     "exception": false,
     "start_time": "2023-02-06T01:30:35.402477",
     "status": "completed"
    },
    "tags": []
   },
   "source": [
    "**Preprocessing categorical columns**"
   ]
  },
  {
   "cell_type": "code",
   "execution_count": null,
   "id": "39cfef92",
   "metadata": {
    "execution": {
     "iopub.execute_input": "2023-02-06T01:30:35.449090Z",
     "iopub.status.busy": "2023-02-06T01:30:35.447814Z",
     "iopub.status.idle": "2023-02-06T01:30:35.458631Z",
     "shell.execute_reply": "2023-02-06T01:30:35.456949Z"
    },
    "papermill": {
     "duration": 0.029885,
     "end_time": "2023-02-06T01:30:35.461440",
     "exception": false,
     "start_time": "2023-02-06T01:30:35.431555",
     "status": "completed"
    },
    "tags": []
   },
   "outputs": [],
   "source": [
    "# identify categorical columns\n",
    "cat_cols_df_missing = df_missing[df_missing['Data Type']=='object'].sort_values('df_train', ascending=False)\n",
    "print(cat_cols_df_missing)"
   ]
  },
  {
   "cell_type": "markdown",
   "id": "33b865f0",
   "metadata": {
    "papermill": {
     "duration": 0.01509,
     "end_time": "2023-02-06T01:30:35.492045",
     "exception": false,
     "start_time": "2023-02-06T01:30:35.476955",
     "status": "completed"
    },
    "tags": []
   },
   "source": [
    "Iterate through catagorical columns and replace missing values with \"mode\""
   ]
  },
  {
   "cell_type": "code",
   "execution_count": null,
   "id": "faec0dd5",
   "metadata": {
    "execution": {
     "iopub.execute_input": "2023-02-06T01:30:35.523730Z",
     "iopub.status.busy": "2023-02-06T01:30:35.522999Z",
     "iopub.status.idle": "2023-02-06T01:30:35.553925Z",
     "shell.execute_reply": "2023-02-06T01:30:35.552929Z"
    },
    "papermill": {
     "duration": 0.049547,
     "end_time": "2023-02-06T01:30:35.556394",
     "exception": false,
     "start_time": "2023-02-06T01:30:35.506847",
     "status": "completed"
    },
    "tags": []
   },
   "outputs": [],
   "source": [
    "for col in list(cat_cols_df_missing.index):\n",
    "    if col in list(df_train.columns):\n",
    "        df_train[col].fillna(df_train[col].mode()[0], inplace=True)\n",
    "        df_test[col].fillna(df_test[col].mode()[0], inplace=True)\n",
    "    else:\n",
    "        continue"
   ]
  },
  {
   "cell_type": "markdown",
   "id": "1ff2ce6a",
   "metadata": {
    "papermill": {
     "duration": 0.01476,
     "end_time": "2023-02-06T01:30:35.586066",
     "exception": false,
     "start_time": "2023-02-06T01:30:35.571306",
     "status": "completed"
    },
    "tags": []
   },
   "source": [
    "**Since there are mismatches in the categories for the following columns, we'll just drop these categories.**\n",
    "- Affected colums: Condition2, Electrical, Exterior1st, Exterior2nd, GarageQual, Heating, HouseStyle, RoofMatl, Utilities\n",
    "\n",
    "Let's check the affected columns first."
   ]
  },
  {
   "cell_type": "code",
   "execution_count": null,
   "id": "05637553",
   "metadata": {
    "execution": {
     "iopub.execute_input": "2023-02-06T01:30:35.618750Z",
     "iopub.status.busy": "2023-02-06T01:30:35.617993Z",
     "iopub.status.idle": "2023-02-06T01:30:35.662143Z",
     "shell.execute_reply": "2023-02-06T01:30:35.660606Z"
    },
    "papermill": {
     "duration": 0.063158,
     "end_time": "2023-02-06T01:30:35.664707",
     "exception": false,
     "start_time": "2023-02-06T01:30:35.601549",
     "status": "completed"
    },
    "tags": []
   },
   "outputs": [],
   "source": [
    "cols_to_check = [\"Condition2\", \"Electrical\", \"Exterior1st\", \"Exterior2nd\",\"GarageQual\",\n",
    "                 \"Heating\", \"HouseStyle\", \"RoofMatl\", \"Utilities\"]\n",
    "\n",
    "for col in cols_to_check:\n",
    "    print(col)\n",
    "#     print(df_train[col].isnull().sum())\n",
    "    df_train_obj = df_train.select_dtypes(include='object')\n",
    "    df_test_obj = df_test.select_dtypes(include='object')\n",
    "    print(sorted(df_train_obj[col].unique()))\n",
    "    print(sorted(df_test_obj[col].unique()),\"\\n\")"
   ]
  },
  {
   "cell_type": "markdown",
   "id": "3f644cd0",
   "metadata": {
    "papermill": {
     "duration": 0.014633,
     "end_time": "2023-02-06T01:30:35.694577",
     "exception": false,
     "start_time": "2023-02-06T01:30:35.679944",
     "status": "completed"
    },
    "tags": []
   },
   "source": [
    "**Dropping the affected columns (from above step)**"
   ]
  },
  {
   "cell_type": "code",
   "execution_count": null,
   "id": "ba7def83",
   "metadata": {
    "execution": {
     "iopub.execute_input": "2023-02-06T01:30:35.727101Z",
     "iopub.status.busy": "2023-02-06T01:30:35.725734Z",
     "iopub.status.idle": "2023-02-06T01:30:35.756062Z",
     "shell.execute_reply": "2023-02-06T01:30:35.755047Z"
    },
    "papermill": {
     "duration": 0.04964,
     "end_time": "2023-02-06T01:30:35.759176",
     "exception": false,
     "start_time": "2023-02-06T01:30:35.709536",
     "status": "completed"
    },
    "tags": []
   },
   "outputs": [],
   "source": [
    "for col in cols_to_check:\n",
    "    df_train.drop(col, axis=1, inplace=True)\n",
    "    df_test.drop(col, axis=1, inplace=True)"
   ]
  },
  {
   "cell_type": "markdown",
   "id": "9ff5cfa7",
   "metadata": {
    "papermill": {
     "duration": 0.014574,
     "end_time": "2023-02-06T01:30:35.788753",
     "exception": false,
     "start_time": "2023-02-06T01:30:35.774179",
     "status": "completed"
    },
    "tags": []
   },
   "source": [
    "**Dropping observation from  `df_train` that is not present in `df_test`**\n",
    "\n",
    "* This code is checking for the categorical columns in the df_train data and comparing their unique values with the unique values in the df_test data.\n",
    "* For each column, the code checks if the difference between the sorted sets of unique values in df_train and df_test is equal to zero. If so, it continues to the next column.\n",
    "* If the difference is not equal to zero, it calculates the difference between the two sets and uses it to remove the rows in df_train that have values belonging to the calculated difference set."
   ]
  },
  {
   "cell_type": "code",
   "execution_count": null,
   "id": "bb57b93a",
   "metadata": {
    "execution": {
     "iopub.execute_input": "2023-02-06T01:30:35.820530Z",
     "iopub.status.busy": "2023-02-06T01:30:35.820122Z",
     "iopub.status.idle": "2023-02-06T01:30:35.856240Z",
     "shell.execute_reply": "2023-02-06T01:30:35.854968Z"
    },
    "papermill": {
     "duration": 0.055611,
     "end_time": "2023-02-06T01:30:35.859342",
     "exception": false,
     "start_time": "2023-02-06T01:30:35.803731",
     "status": "completed"
    },
    "tags": []
   },
   "outputs": [],
   "source": [
    "result = pd.DataFrame({'Train': df_train.select_dtypes(include='object').apply(lambda x: x.nunique()),\n",
    "                       'Test': df_test.select_dtypes(include='object').apply(lambda x: x.nunique())}).sort_values(\"Train\", ascending=False)\n",
    "result"
   ]
  },
  {
   "cell_type": "markdown",
   "id": "55793e2c",
   "metadata": {
    "papermill": {
     "duration": 0.015436,
     "end_time": "2023-02-06T01:30:35.890023",
     "exception": false,
     "start_time": "2023-02-06T01:30:35.874587",
     "status": "completed"
    },
    "tags": []
   },
   "source": [
    "**Checking if `df_train` and `df_test` have the same subcategories for each categorical column**"
   ]
  },
  {
   "cell_type": "code",
   "execution_count": null,
   "id": "5197bb6e",
   "metadata": {
    "execution": {
     "iopub.execute_input": "2023-02-06T01:30:35.922377Z",
     "iopub.status.busy": "2023-02-06T01:30:35.921997Z",
     "iopub.status.idle": "2023-02-06T01:30:35.945961Z",
     "shell.execute_reply": "2023-02-06T01:30:35.944762Z"
    },
    "papermill": {
     "duration": 0.04417,
     "end_time": "2023-02-06T01:30:35.949598",
     "exception": false,
     "start_time": "2023-02-06T01:30:35.905428",
     "status": "completed"
    },
    "tags": []
   },
   "outputs": [],
   "source": [
    "for cols in df_train.select_dtypes(include='object').columns:\n",
    "    print(cols)\n",
    "    print(sorted(df_train[cols].unique()))\n",
    "    print(sorted(df_test[cols].unique()), \"\\n\")"
   ]
  },
  {
   "cell_type": "markdown",
   "id": "777d9c23",
   "metadata": {
    "papermill": {
     "duration": 0.014825,
     "end_time": "2023-02-06T01:30:35.980967",
     "exception": false,
     "start_time": "2023-02-06T01:30:35.966142",
     "status": "completed"
    },
    "tags": []
   },
   "source": [
    "**Asserting there is no differnce in subcatagories per catagorical column**"
   ]
  },
  {
   "cell_type": "code",
   "execution_count": null,
   "id": "86b9364e",
   "metadata": {
    "execution": {
     "iopub.execute_input": "2023-02-06T01:30:36.013967Z",
     "iopub.status.busy": "2023-02-06T01:30:36.013500Z",
     "iopub.status.idle": "2023-02-06T01:30:36.035193Z",
     "shell.execute_reply": "2023-02-06T01:30:36.033930Z"
    },
    "papermill": {
     "duration": 0.041431,
     "end_time": "2023-02-06T01:30:36.037821",
     "exception": false,
     "start_time": "2023-02-06T01:30:35.996390",
     "status": "completed"
    },
    "tags": []
   },
   "outputs": [],
   "source": [
    "train_cat_cols_missing_vals = list(df_train.select_dtypes(include='object').columns[df_train.select_dtypes(include='object').isnull().sum() > 0])\n",
    "print(len(train_cat_cols_missing_vals))\n",
    "\n",
    "test_cat_cols_missing_vals = list(df_test.select_dtypes(include='object').columns[df_test.select_dtypes(include='object').isnull().sum() > 0])\n",
    "print(len(test_cat_cols_missing_vals))"
   ]
  },
  {
   "cell_type": "code",
   "execution_count": null,
   "id": "12081aaf",
   "metadata": {
    "execution": {
     "iopub.execute_input": "2023-02-06T01:30:36.071332Z",
     "iopub.status.busy": "2023-02-06T01:30:36.070909Z",
     "iopub.status.idle": "2023-02-06T01:30:36.091404Z",
     "shell.execute_reply": "2023-02-06T01:30:36.090158Z"
    },
    "papermill": {
     "duration": 0.040563,
     "end_time": "2023-02-06T01:30:36.094032",
     "exception": false,
     "start_time": "2023-02-06T01:30:36.053469",
     "status": "completed"
    },
    "tags": []
   },
   "outputs": [],
   "source": [
    "print(df_train.select_dtypes(include='object').columns[df_train.select_dtypes(include='object').isnull().sum()>0])\n",
    "\n",
    "print(df_test.select_dtypes(include='object').columns[df_test.select_dtypes(include='object').isnull().sum()>0])"
   ]
  },
  {
   "cell_type": "markdown",
   "id": "8b856e7d",
   "metadata": {
    "papermill": {
     "duration": 0.015311,
     "end_time": "2023-02-06T01:30:36.125282",
     "exception": false,
     "start_time": "2023-02-06T01:30:36.109971",
     "status": "completed"
    },
    "tags": []
   },
   "source": [
    "**Handling Missing Values for numeric columns**\n",
    "\n",
    "Let's count the number of missing values per column. "
   ]
  },
  {
   "cell_type": "code",
   "execution_count": null,
   "id": "b782c23e",
   "metadata": {
    "execution": {
     "iopub.execute_input": "2023-02-06T01:30:36.159162Z",
     "iopub.status.busy": "2023-02-06T01:30:36.158722Z",
     "iopub.status.idle": "2023-02-06T01:30:36.174890Z",
     "shell.execute_reply": "2023-02-06T01:30:36.173560Z"
    },
    "papermill": {
     "duration": 0.036041,
     "end_time": "2023-02-06T01:30:36.177279",
     "exception": false,
     "start_time": "2023-02-06T01:30:36.141238",
     "status": "completed"
    },
    "tags": []
   },
   "outputs": [],
   "source": [
    "train_num_cols = df_train.select_dtypes(exclude='object').columns[df_train.select_dtypes(exclude='object').isnull().sum()>0]\n",
    "\n",
    "df_train[train_num_cols].isnull().sum().sort_values(ascending=False)"
   ]
  },
  {
   "cell_type": "markdown",
   "id": "9cb5eda2",
   "metadata": {
    "papermill": {
     "duration": 0.015519,
     "end_time": "2023-02-06T01:30:36.208604",
     "exception": false,
     "start_time": "2023-02-06T01:30:36.193085",
     "status": "completed"
    },
    "tags": []
   },
   "source": [
    "**Replacing Missing Values**\n",
    "\n",
    "Affected columns from trainig data\n",
    "* LotFrontage - replace with average lot frontage\n",
    "* GarageYrBlt - replace with most frequent year\n",
    "* MasVnrArea  - replace with average area"
   ]
  },
  {
   "cell_type": "code",
   "execution_count": null,
   "id": "28701c91",
   "metadata": {
    "execution": {
     "iopub.execute_input": "2023-02-06T01:30:36.243017Z",
     "iopub.status.busy": "2023-02-06T01:30:36.242300Z",
     "iopub.status.idle": "2023-02-06T01:30:36.252799Z",
     "shell.execute_reply": "2023-02-06T01:30:36.251950Z"
    },
    "papermill": {
     "duration": 0.030343,
     "end_time": "2023-02-06T01:30:36.255290",
     "exception": false,
     "start_time": "2023-02-06T01:30:36.224947",
     "status": "completed"
    },
    "tags": []
   },
   "outputs": [],
   "source": [
    "df_train[\"LotFrontage\"].fillna(df_train[\"LotFrontage\"].median(), inplace=True)\n",
    "df_train[\"GarageYrBlt\"].fillna(df_train[\"GarageYrBlt\"].median(), inplace=True)\n",
    "df_train[\"MasVnrArea\"].fillna(df_train[\"MasVnrArea\"].median(), inplace=True)"
   ]
  },
  {
   "cell_type": "markdown",
   "id": "1fa907d1",
   "metadata": {
    "papermill": {
     "duration": 0.015196,
     "end_time": "2023-02-06T01:30:36.286302",
     "exception": false,
     "start_time": "2023-02-06T01:30:36.271106",
     "status": "completed"
    },
    "tags": []
   },
   "source": [
    "**Handling df_test missing values**\n",
    "\n",
    "Let's check for columns with missing values."
   ]
  },
  {
   "cell_type": "code",
   "execution_count": null,
   "id": "3f6d5f11",
   "metadata": {
    "execution": {
     "iopub.execute_input": "2023-02-06T01:30:36.319698Z",
     "iopub.status.busy": "2023-02-06T01:30:36.319264Z",
     "iopub.status.idle": "2023-02-06T01:30:36.335111Z",
     "shell.execute_reply": "2023-02-06T01:30:36.334156Z"
    },
    "papermill": {
     "duration": 0.035292,
     "end_time": "2023-02-06T01:30:36.337515",
     "exception": false,
     "start_time": "2023-02-06T01:30:36.302223",
     "status": "completed"
    },
    "tags": []
   },
   "outputs": [],
   "source": [
    "test_num_cols = df_test.select_dtypes(exclude='object').columns[df_test.select_dtypes(exclude='object').isnull().sum()>0]\n",
    "\n",
    "df_test[test_num_cols].isnull().sum().sort_values(ascending=False)"
   ]
  },
  {
   "cell_type": "markdown",
   "id": "6e6592f2",
   "metadata": {
    "papermill": {
     "duration": 0.015281,
     "end_time": "2023-02-06T01:30:36.368799",
     "exception": false,
     "start_time": "2023-02-06T01:30:36.353518",
     "status": "completed"
    },
    "tags": []
   },
   "source": [
    "**Replacing Missing Values**\n",
    "\n",
    "Testing data\n",
    "* LotFrontage - replace with median\n",
    "* GarageYrBlt - replace with median\n",
    "* MasVnrArea - replace with median\n",
    "* BsmtFullBath - replace with median\n",
    "* BsmtHalfBath - replace with median\n",
    "* BsmtFinSF1 - replace with median\n",
    "* BsmtFinSF2 - replace with median\n",
    "* BsmtUnfSF - replace with median\n",
    "* TotalBsmtSF - replace with median\n",
    "* GarageCars - replace with median\n",
    "* GarageArea - replace with median"
   ]
  },
  {
   "cell_type": "code",
   "execution_count": null,
   "id": "5331b6f4",
   "metadata": {
    "execution": {
     "iopub.execute_input": "2023-02-06T01:30:36.402143Z",
     "iopub.status.busy": "2023-02-06T01:30:36.401709Z",
     "iopub.status.idle": "2023-02-06T01:30:36.417469Z",
     "shell.execute_reply": "2023-02-06T01:30:36.416558Z"
    },
    "papermill": {
     "duration": 0.03552,
     "end_time": "2023-02-06T01:30:36.419903",
     "exception": false,
     "start_time": "2023-02-06T01:30:36.384383",
     "status": "completed"
    },
    "tags": []
   },
   "outputs": [],
   "source": [
    "num_cols_missing_vals = list(df_test[test_num_cols].isnull().sum().sort_values(ascending=False).index)\n",
    "\n",
    "for col in num_cols_missing_vals:\n",
    "    df_test[col].fillna(df_test[col].median(), inplace=True)"
   ]
  },
  {
   "cell_type": "markdown",
   "id": "d5cf127f",
   "metadata": {
    "papermill": {
     "duration": 0.015381,
     "end_time": "2023-02-06T01:30:36.451029",
     "exception": false,
     "start_time": "2023-02-06T01:30:36.435648",
     "status": "completed"
    },
    "tags": []
   },
   "source": [
    "**Separating training data features from lables**"
   ]
  },
  {
   "cell_type": "code",
   "execution_count": null,
   "id": "9f6eb423",
   "metadata": {
    "execution": {
     "iopub.execute_input": "2023-02-06T01:30:36.484853Z",
     "iopub.status.busy": "2023-02-06T01:30:36.484453Z",
     "iopub.status.idle": "2023-02-06T01:30:36.492062Z",
     "shell.execute_reply": "2023-02-06T01:30:36.491119Z"
    },
    "papermill": {
     "duration": 0.027946,
     "end_time": "2023-02-06T01:30:36.494763",
     "exception": false,
     "start_time": "2023-02-06T01:30:36.466817",
     "status": "completed"
    },
    "tags": []
   },
   "outputs": [],
   "source": [
    "# Split the data into features and target\n",
    "X_train = df_train.drop(\"SalePrice\", axis=1)\n",
    "print(f\"X-train dimension: {X_train.shape}\")\n",
    "\n",
    "y_train_final = df_train[\"SalePrice\"]\n",
    "print(f\"y-train dimension: {y_train_final.shape}\")\n",
    "\n",
    "# test set\n",
    "print(f\"X-test dimension: {df_test.shape}\")"
   ]
  },
  {
   "cell_type": "markdown",
   "id": "200ce5b2",
   "metadata": {
    "papermill": {
     "duration": 0.015502,
     "end_time": "2023-02-06T01:30:36.526007",
     "exception": false,
     "start_time": "2023-02-06T01:30:36.510505",
     "status": "completed"
    },
    "tags": []
   },
   "source": [
    "### OneHotEncoding\n",
    "Let's convert categories into 0's and 1's using OneHotEncoding"
   ]
  },
  {
   "cell_type": "code",
   "execution_count": null,
   "id": "9ccbde41",
   "metadata": {
    "execution": {
     "iopub.execute_input": "2023-02-06T01:30:36.559598Z",
     "iopub.status.busy": "2023-02-06T01:30:36.559209Z",
     "iopub.status.idle": "2023-02-06T01:30:36.634968Z",
     "shell.execute_reply": "2023-02-06T01:30:36.633359Z"
    },
    "papermill": {
     "duration": 0.096391,
     "end_time": "2023-02-06T01:30:36.638163",
     "exception": false,
     "start_time": "2023-02-06T01:30:36.541772",
     "status": "completed"
    },
    "tags": []
   },
   "outputs": [],
   "source": [
    "# Train \n",
    "from sklearn.preprocessing import OneHotEncoder\n",
    "\n",
    "# select the categorical columns\n",
    "cat_cols_train = X_train.select_dtypes(include='object')\n",
    "print(len(list(cat_cols_train.columns)))\n",
    "\n",
    "cat_cols_test = df_test.select_dtypes(include='object')\n",
    "print(len(list(cat_cols_test.columns)))\n",
    "\n",
    "one_hot_encoded_train_data = pd.get_dummies(X_train) #.select_dtypes(include='object')) \n",
    "final_train = one_hot_encoded_train_data.copy()\n",
    "\n",
    "one_hot_encoded_test_data = pd.get_dummies(df_test) #.select_dtypes(include='object')) \n",
    "final_test = one_hot_encoded_test_data.copy()"
   ]
  },
  {
   "cell_type": "code",
   "execution_count": null,
   "id": "69040352",
   "metadata": {
    "execution": {
     "iopub.execute_input": "2023-02-06T01:30:36.674701Z",
     "iopub.status.busy": "2023-02-06T01:30:36.674220Z",
     "iopub.status.idle": "2023-02-06T01:30:36.697149Z",
     "shell.execute_reply": "2023-02-06T01:30:36.695815Z"
    },
    "papermill": {
     "duration": 0.045084,
     "end_time": "2023-02-06T01:30:36.699697",
     "exception": false,
     "start_time": "2023-02-06T01:30:36.654613",
     "status": "completed"
    },
    "tags": []
   },
   "outputs": [],
   "source": [
    "final_train.head()"
   ]
  },
  {
   "cell_type": "code",
   "execution_count": null,
   "id": "abac38b1",
   "metadata": {
    "execution": {
     "iopub.execute_input": "2023-02-06T01:30:36.734978Z",
     "iopub.status.busy": "2023-02-06T01:30:36.734527Z",
     "iopub.status.idle": "2023-02-06T01:30:36.757588Z",
     "shell.execute_reply": "2023-02-06T01:30:36.756333Z"
    },
    "papermill": {
     "duration": 0.043354,
     "end_time": "2023-02-06T01:30:36.760020",
     "exception": false,
     "start_time": "2023-02-06T01:30:36.716666",
     "status": "completed"
    },
    "tags": []
   },
   "outputs": [],
   "source": [
    "final_test.head()"
   ]
  },
  {
   "cell_type": "markdown",
   "id": "7d25b4dc",
   "metadata": {
    "papermill": {
     "duration": 0.016756,
     "end_time": "2023-02-06T01:30:36.793542",
     "exception": false,
     "start_time": "2023-02-06T01:30:36.776786",
     "status": "completed"
    },
    "tags": []
   },
   "source": [
    "checking for mismatch between train and test datasets"
   ]
  },
  {
   "cell_type": "code",
   "execution_count": null,
   "id": "fb0c6813",
   "metadata": {
    "execution": {
     "iopub.execute_input": "2023-02-06T01:30:36.831922Z",
     "iopub.status.busy": "2023-02-06T01:30:36.831437Z",
     "iopub.status.idle": "2023-02-06T01:30:36.839229Z",
     "shell.execute_reply": "2023-02-06T01:30:36.838137Z"
    },
    "papermill": {
     "duration": 0.030843,
     "end_time": "2023-02-06T01:30:36.841529",
     "exception": false,
     "start_time": "2023-02-06T01:30:36.810686",
     "status": "completed"
    },
    "tags": []
   },
   "outputs": [],
   "source": [
    "set(final_train.columns) - set(final_test.columns)"
   ]
  },
  {
   "cell_type": "code",
   "execution_count": null,
   "id": "f4949ea5",
   "metadata": {
    "execution": {
     "iopub.execute_input": "2023-02-06T01:30:36.877148Z",
     "iopub.status.busy": "2023-02-06T01:30:36.876732Z",
     "iopub.status.idle": "2023-02-06T01:30:36.889469Z",
     "shell.execute_reply": "2023-02-06T01:30:36.887762Z"
    },
    "papermill": {
     "duration": 0.033751,
     "end_time": "2023-02-06T01:30:36.892287",
     "exception": false,
     "start_time": "2023-02-06T01:30:36.858536",
     "status": "completed"
    },
    "tags": []
   },
   "outputs": [],
   "source": [
    "print(final_train.isnull().sum().sum(), final_test.isnull().sum().sum())"
   ]
  },
  {
   "cell_type": "markdown",
   "id": "fff22928",
   "metadata": {
    "papermill": {
     "duration": 0.016612,
     "end_time": "2023-02-06T01:30:36.926017",
     "exception": false,
     "start_time": "2023-02-06T01:30:36.909405",
     "status": "completed"
    },
    "tags": []
   },
   "source": [
    "Checking dimension of our datasets before building ML model."
   ]
  },
  {
   "cell_type": "code",
   "execution_count": null,
   "id": "371e1ea7",
   "metadata": {
    "execution": {
     "iopub.execute_input": "2023-02-06T01:30:36.961939Z",
     "iopub.status.busy": "2023-02-06T01:30:36.961065Z",
     "iopub.status.idle": "2023-02-06T01:30:36.967652Z",
     "shell.execute_reply": "2023-02-06T01:30:36.966291Z"
    },
    "papermill": {
     "duration": 0.02749,
     "end_time": "2023-02-06T01:30:36.970273",
     "exception": false,
     "start_time": "2023-02-06T01:30:36.942783",
     "status": "completed"
    },
    "tags": []
   },
   "outputs": [],
   "source": [
    "print(final_train.shape, final_test.shape, y_train_final.shape)"
   ]
  },
  {
   "cell_type": "markdown",
   "id": "a1dcc1ab",
   "metadata": {
    "papermill": {
     "duration": 0.016576,
     "end_time": "2023-02-06T01:30:37.003853",
     "exception": false,
     "start_time": "2023-02-06T01:30:36.987277",
     "status": "completed"
    },
    "tags": []
   },
   "source": [
    "**Let's split our train dataframe into trainig and validation sets before building final model**"
   ]
  },
  {
   "cell_type": "code",
   "execution_count": null,
   "id": "a836cb72",
   "metadata": {
    "execution": {
     "iopub.execute_input": "2023-02-06T01:30:37.040900Z",
     "iopub.status.busy": "2023-02-06T01:30:37.040438Z",
     "iopub.status.idle": "2023-02-06T01:30:37.052623Z",
     "shell.execute_reply": "2023-02-06T01:30:37.051274Z"
    },
    "papermill": {
     "duration": 0.033954,
     "end_time": "2023-02-06T01:30:37.055494",
     "exception": false,
     "start_time": "2023-02-06T01:30:37.021540",
     "status": "completed"
    },
    "tags": []
   },
   "outputs": [],
   "source": [
    "from sklearn.model_selection import train_test_split\n",
    "\n",
    "X_train, X_val, y_train, y_val = train_test_split(final_train, \n",
    "                                                  y_train_final,\n",
    "                                                  test_size=0.25,\n",
    "                                                  random_state=123)\n",
    "\n",
    "print(X_train.shape, X_val.shape, y_train.shape, y_val.shape)"
   ]
  },
  {
   "cell_type": "markdown",
   "id": "a792b097",
   "metadata": {
    "papermill": {
     "duration": 0.016623,
     "end_time": "2023-02-06T01:30:37.089722",
     "exception": false,
     "start_time": "2023-02-06T01:30:37.073099",
     "status": "completed"
    },
    "tags": []
   },
   "source": [
    "### 2. Building Base Regression Model \n",
    "- datasets `X_train`, `X_val`, `y_train`, `y_val` from above will be used for training model.\n",
    "- `LinearRegression`, `RandomForest` and `XGBoost` regression models are chosen.\n",
    "- We will train the models, evaluate them and choose the best model based on lowest RMSE value."
   ]
  },
  {
   "cell_type": "code",
   "execution_count": null,
   "id": "1cb92c59",
   "metadata": {
    "execution": {
     "iopub.execute_input": "2023-02-06T01:30:37.126252Z",
     "iopub.status.busy": "2023-02-06T01:30:37.125547Z",
     "iopub.status.idle": "2023-02-06T01:31:09.092388Z",
     "shell.execute_reply": "2023-02-06T01:31:09.091474Z"
    },
    "papermill": {
     "duration": 32.008346,
     "end_time": "2023-02-06T01:31:09.114966",
     "exception": false,
     "start_time": "2023-02-06T01:30:37.106620",
     "status": "completed"
    },
    "tags": []
   },
   "outputs": [],
   "source": [
    "# load required modules\n",
    "import xgboost as xgb\n",
    "from sklearn.ensemble import RandomForestRegressor\n",
    "from sklearn.linear_model import LinearRegression\n",
    "import numpy as np\n",
    "from sklearn.metrics import mean_squared_error, roc_auc_score\n",
    "from sklearn.model_selection import cross_val_score\n",
    "\n",
    "# Create the XGBoost and RandomForest Regressor\n",
    "lr_reg = LinearRegression()\n",
    "rf_reg = RandomForestRegressor()\n",
    "xgb_reg = xgb.XGBRegressor()\n",
    "\n",
    "\n",
    "# Fit the regressor to the training data\n",
    "lr_reg.fit(X_train, y_train)\n",
    "rf_reg.fit(X_train, y_train)\n",
    "xgb_reg.fit(X_train, y_train)\n",
    "\n",
    "\n",
    "# Make predictions on the validation data\n",
    "y_val_pred_lr = lr_reg.predict(X_val)\n",
    "y_val_pred_rf = rf_reg.predict(X_val)\n",
    "y_val_pred_xgb = xgb_reg.predict(X_val)\n",
    "\n",
    "\n",
    "# Compute RMSE\n",
    "lr_rmse = np.sqrt(mean_squared_error(y_val, y_val_pred_lr))\n",
    "rf_rmse = np.sqrt(mean_squared_error(y_val, y_val_pred_rf))\n",
    "xgb_rmse = np.sqrt(mean_squared_error(y_val, y_val_pred_xgb))\n",
    "\n",
    "# Cross-validate the model using 10-fold CV\n",
    "lr_cv_scores = cross_val_score(lr_reg, X_train, y_train, cv=10)\n",
    "rf_cv_scores = cross_val_score(rf_reg, X_train, y_train, cv=10)\n",
    "xgb_cv_scores = cross_val_score(xgb_reg, X_train, y_train, cv=10)\n",
    "\n",
    "# Print RMSE scores\n",
    "print(f\"RMSE Linear Regression: {lr_rmse: .2f}\")\n",
    "print(f\"RMSE RandomForest: {rf_rmse: .2f}\")\n",
    "print(f\"RMSE XGBoost: {xgb_rmse}\")\n",
    "print(\"\")\n",
    "print(f\"Linear Regression 10-Fold CV Mean Score: {np.mean(lr_cv_scores): .2f}\")\n",
    "print(f\"RandomForest 10-Fold CV Mean Score: {np.mean(rf_cv_scores): .2f}\")\n",
    "print(f\"XGBoost 10-Fold CV Mean Score: {np.mean(xgb_cv_scores): .2f}\")\n"
   ]
  },
  {
   "cell_type": "markdown",
   "id": "0c03e5b2",
   "metadata": {
    "papermill": {
     "duration": 0.017877,
     "end_time": "2023-02-06T01:31:09.150312",
     "exception": false,
     "start_time": "2023-02-06T01:31:09.132435",
     "status": "completed"
    },
    "tags": []
   },
   "source": [
    "**Inspecting Feature Importances**\n",
    "\n",
    "**1. Linear Regressor**"
   ]
  },
  {
   "cell_type": "code",
   "execution_count": null,
   "id": "a70f6145",
   "metadata": {
    "execution": {
     "iopub.execute_input": "2023-02-06T01:31:09.186311Z",
     "iopub.status.busy": "2023-02-06T01:31:09.185897Z",
     "iopub.status.idle": "2023-02-06T01:31:09.196912Z",
     "shell.execute_reply": "2023-02-06T01:31:09.195686Z"
    },
    "papermill": {
     "duration": 0.032,
     "end_time": "2023-02-06T01:31:09.199442",
     "exception": false,
     "start_time": "2023-02-06T01:31:09.167442",
     "status": "completed"
    },
    "tags": []
   },
   "outputs": [],
   "source": [
    "# Get feature importance scores\n",
    "lr_importance = lr_reg.coef_\n",
    "lr_importance_df = pd.DataFrame({'Feature': X_train.columns, 'Importance': lr_importance})\n",
    "lr_importance_df.sort_values(by='Importance', ascending=False, inplace=True)\n",
    "\n",
    "# Display top 10 most important features\n",
    "print(lr_importance_df.head(10))"
   ]
  },
  {
   "cell_type": "markdown",
   "id": "91144389",
   "metadata": {
    "papermill": {
     "duration": 0.016865,
     "end_time": "2023-02-06T01:31:09.233796",
     "exception": false,
     "start_time": "2023-02-06T01:31:09.216931",
     "status": "completed"
    },
    "tags": []
   },
   "source": [
    "**2. Random Forest Regressor**"
   ]
  },
  {
   "cell_type": "code",
   "execution_count": null,
   "id": "ba2c79a8",
   "metadata": {
    "execution": {
     "iopub.execute_input": "2023-02-06T01:31:09.269724Z",
     "iopub.status.busy": "2023-02-06T01:31:09.269327Z",
     "iopub.status.idle": "2023-02-06T01:31:09.292576Z",
     "shell.execute_reply": "2023-02-06T01:31:09.290740Z"
    },
    "papermill": {
     "duration": 0.044239,
     "end_time": "2023-02-06T01:31:09.295211",
     "exception": false,
     "start_time": "2023-02-06T01:31:09.250972",
     "status": "completed"
    },
    "tags": []
   },
   "outputs": [],
   "source": [
    "# Get feature importance scores\n",
    "rf_importance = rf_reg.feature_importances_\n",
    "rf_importance_df = pd.DataFrame({'Feature': X_train.columns, 'Importance': rf_importance})\n",
    "rf_importance_df.sort_values(by='Importance', ascending=False, inplace=True)\n",
    "\n",
    "# Display top 10 most important features\n",
    "print(rf_importance_df.head(10))"
   ]
  },
  {
   "cell_type": "markdown",
   "id": "bb26c734",
   "metadata": {
    "papermill": {
     "duration": 0.017098,
     "end_time": "2023-02-06T01:31:09.330364",
     "exception": false,
     "start_time": "2023-02-06T01:31:09.313266",
     "status": "completed"
    },
    "tags": []
   },
   "source": [
    "**3. XGBoost Regressor**"
   ]
  },
  {
   "cell_type": "code",
   "execution_count": null,
   "id": "5878c1a8",
   "metadata": {
    "execution": {
     "iopub.execute_input": "2023-02-06T01:31:09.366564Z",
     "iopub.status.busy": "2023-02-06T01:31:09.366122Z",
     "iopub.status.idle": "2023-02-06T01:31:09.378549Z",
     "shell.execute_reply": "2023-02-06T01:31:09.377097Z"
    },
    "papermill": {
     "duration": 0.033719,
     "end_time": "2023-02-06T01:31:09.381233",
     "exception": false,
     "start_time": "2023-02-06T01:31:09.347514",
     "status": "completed"
    },
    "tags": []
   },
   "outputs": [],
   "source": [
    "# Get feature importance scores\n",
    "xgb_importance = xgb_reg.get_booster().get_score(importance_type='weight')\n",
    "xgb_importance_df = pd.DataFrame({'Feature': list(xgb_importance.keys()), \n",
    "                                  'Importance': list(xgb_importance.values())})\n",
    "xgb_importance_df.sort_values(by='Importance', ascending=False, inplace=True)\n",
    "\n",
    "# Display top 10 most important features\n",
    "print(xgb_importance_df.head(10))"
   ]
  },
  {
   "cell_type": "markdown",
   "id": "2605589c",
   "metadata": {
    "papermill": {
     "duration": 0.017273,
     "end_time": "2023-02-06T01:31:09.416116",
     "exception": false,
     "start_time": "2023-02-06T01:31:09.398843",
     "status": "completed"
    },
    "tags": []
   },
   "source": [
    "### 3. Performing Hyperparameter Tuning\n",
    "\n",
    "Since `XGBoost Regressor` performed best, we will use it as the **final submission model**. \n",
    "\n",
    "Here are XGBoost's best_paramaters from GridSearch.\n",
    "- learning_rate=0.1\n",
    "- max_depth=2\n",
    "- n_estimators=300\n",
    "- reg_alpha=0.5"
   ]
  },
  {
   "cell_type": "markdown",
   "id": "a5013bb9",
   "metadata": {
    "papermill": {
     "duration": 0.017082,
     "end_time": "2023-02-06T01:31:09.451430",
     "exception": false,
     "start_time": "2023-02-06T01:31:09.434348",
     "status": "completed"
    },
    "tags": []
   },
   "source": [
    "**Using GridSearch results to tune hyperparameters**\n",
    "- models to use `RandomForestRegressor` and `XGBRegressor`\n",
    "- so far `XGBoost` has the lowest RMSE value (best model so far).\n",
    "\n",
    "Let's see if hyperparameter tunning improves the two models. "
   ]
  },
  {
   "cell_type": "code",
   "execution_count": null,
   "id": "ec806ec5",
   "metadata": {
    "execution": {
     "iopub.execute_input": "2023-02-06T01:31:09.487820Z",
     "iopub.status.busy": "2023-02-06T01:31:09.487421Z",
     "iopub.status.idle": "2023-02-06T01:31:40.475916Z",
     "shell.execute_reply": "2023-02-06T01:31:40.474671Z"
    },
    "papermill": {
     "duration": 31.027426,
     "end_time": "2023-02-06T01:31:40.496095",
     "exception": false,
     "start_time": "2023-02-06T01:31:09.468669",
     "status": "completed"
    },
    "tags": []
   },
   "outputs": [],
   "source": [
    "# load required modules\n",
    "import xgboost as xgb\n",
    "from sklearn.ensemble import RandomForestRegressor\n",
    "import numpy as np\n",
    "from sklearn.metrics import mean_squared_error, roc_auc_score\n",
    "from sklearn.model_selection import cross_val_score\n",
    "\n",
    "# Create the XGBoost and RandomForest Regressor\n",
    "xgb_reg = xgb.XGBRegressor(learning_rate=0.1,\n",
    "                           max_depth=3,\n",
    "                           n_estimators=300,\n",
    "                           reg_alpha= 0.5)\n",
    "\n",
    "rf_reg = RandomForestRegressor(max_depth=7,\n",
    "                               min_samples_split=5,\n",
    "                               n_estimators=100)\n",
    "\n",
    "# Fit the regressor to the training data\n",
    "xgb_reg.fit(X_train, y_train)\n",
    "rf_reg.fit(X_train, y_train)\n",
    "\n",
    "# Make predictions on the validation data\n",
    "y_val_pred_xgb = xgb_reg.predict(X_val)\n",
    "y_val_pred_rf = rf_reg.predict(X_val)\n",
    "\n",
    "# Compute RMSE\n",
    "xgb_rmse = np.sqrt(mean_squared_error(y_val, y_val_pred_xgb))\n",
    "rf_rmse = np.sqrt(mean_squared_error(y_val, y_val_pred_rf))\n",
    "\n",
    "# Cross-validate the model using 10-fold CV\n",
    "xgb_cv_scores = cross_val_score(xgb_reg, X_train, y_train, cv=10)\n",
    "rf_cv_scores = cross_val_score(rf_reg, X_train, y_train, cv=10)\n",
    "\n",
    "# Print RMSE scores\n",
    "print(f\"RMSE RandomForest: {rf_rmse: .2f}\")\n",
    "print(f\"RMSE XGBoost: {xgb_rmse}\")\n",
    "print(\"\")\n",
    "print(f\"RandomForest 10-Fold CV Mean Score: {np.mean(rf_cv_scores): .2f}\")\n",
    "print(f\"XGBoost 10-Fold CV Mean Score: {np.mean(xgb_cv_scores): .2f}\")\n"
   ]
  },
  {
   "cell_type": "markdown",
   "id": "dd067414",
   "metadata": {
    "papermill": {
     "duration": 0.017761,
     "end_time": "2023-02-06T01:31:40.533032",
     "exception": false,
     "start_time": "2023-02-06T01:31:40.515271",
     "status": "completed"
    },
    "tags": []
   },
   "source": [
    "Both `RMSE` and `model scores` improved after tunning the hyperparameters.\n",
    "\n",
    "****Extracting Important Features****"
   ]
  },
  {
   "cell_type": "code",
   "execution_count": null,
   "id": "ca63b444",
   "metadata": {
    "execution": {
     "iopub.execute_input": "2023-02-06T01:31:40.570060Z",
     "iopub.status.busy": "2023-02-06T01:31:40.569324Z",
     "iopub.status.idle": "2023-02-06T01:31:40.591534Z",
     "shell.execute_reply": "2023-02-06T01:31:40.590141Z"
    },
    "papermill": {
     "duration": 0.044193,
     "end_time": "2023-02-06T01:31:40.594891",
     "exception": false,
     "start_time": "2023-02-06T01:31:40.550698",
     "status": "completed"
    },
    "tags": []
   },
   "outputs": [],
   "source": [
    "# Get feature importance scores\n",
    "rf_importance = rf_reg.feature_importances_\n",
    "rf_importance_df = pd.DataFrame({'Feature': X_train.columns, 'Importance': rf_importance})\n",
    "rf_importance_df.sort_values(by='Importance', ascending=False, inplace=True)\n",
    "\n",
    "# Display top 20 most important features\n",
    "print(rf_importance_df.head(20))"
   ]
  },
  {
   "cell_type": "code",
   "execution_count": null,
   "id": "306b6b5e",
   "metadata": {
    "execution": {
     "iopub.execute_input": "2023-02-06T01:31:40.632249Z",
     "iopub.status.busy": "2023-02-06T01:31:40.631548Z",
     "iopub.status.idle": "2023-02-06T01:31:40.643736Z",
     "shell.execute_reply": "2023-02-06T01:31:40.642542Z"
    },
    "papermill": {
     "duration": 0.033175,
     "end_time": "2023-02-06T01:31:40.646176",
     "exception": false,
     "start_time": "2023-02-06T01:31:40.613001",
     "status": "completed"
    },
    "tags": []
   },
   "outputs": [],
   "source": [
    "# Get feature importance scores\n",
    "xgb_importance = xgb_reg.get_booster().get_score(importance_type='weight')\n",
    "xgb_importance_df = pd.DataFrame({'Feature': list(xgb_importance.keys()), \n",
    "                                  'Importance': list(xgb_importance.values())})\n",
    "xgb_importance_df.sort_values(by='Importance', ascending=False, inplace=True)\n",
    "\n",
    "# Display top 20 most important features\n",
    "print(xgb_importance_df.head(20))"
   ]
  },
  {
   "cell_type": "markdown",
   "id": "4b50e51b",
   "metadata": {
    "papermill": {
     "duration": 0.017105,
     "end_time": "2023-02-06T01:31:40.680740",
     "exception": false,
     "start_time": "2023-02-06T01:31:40.663635",
     "status": "completed"
    },
    "tags": []
   },
   "source": [
    "### 4. Perfoming PCA and Final Model Training \n",
    "- PCA will reduce the number of features"
   ]
  },
  {
   "cell_type": "code",
   "execution_count": null,
   "id": "32c311b7",
   "metadata": {
    "execution": {
     "iopub.execute_input": "2023-02-06T01:31:40.717903Z",
     "iopub.status.busy": "2023-02-06T01:31:40.717489Z",
     "iopub.status.idle": "2023-02-06T01:31:42.318131Z",
     "shell.execute_reply": "2023-02-06T01:31:42.316910Z"
    },
    "papermill": {
     "duration": 1.62249,
     "end_time": "2023-02-06T01:31:42.320745",
     "exception": false,
     "start_time": "2023-02-06T01:31:40.698255",
     "status": "completed"
    },
    "tags": []
   },
   "outputs": [],
   "source": [
    "from sklearn.decomposition import PCA\n",
    "from sklearn.preprocessing import StandardScaler\n",
    "import xgboost as xgb\n",
    "\n",
    "# Scale the data\n",
    "scaler = StandardScaler()\n",
    "X_train_scaled = scaler.fit_transform(final_train)\n",
    "X_test_scaled = scaler.transform(final_test)\n",
    "\n",
    "# Perform PCA\n",
    "pca = PCA(n_components=20) # set n_components to 20\n",
    "X_train_pca = pca.fit_transform(X_train_scaled)\n",
    "X_test_pca = pca.transform(X_test_scaled)\n",
    "\n",
    "X_test_submit = pd.DataFrame(X_test_pca,\n",
    "                          columns=['PC_'+str(i+1) for i in range(20)],\n",
    "                          index=final_test.index)\n",
    "X_train_submit = pd.DataFrame(X_train_pca,\n",
    "                          columns=['PC_'+str(i+1) for i in range(20)],\n",
    "                          index=final_train.index)\n",
    "\n",
    "# train XGBoost model\n",
    "model = xgb.XGBRegressor(learning_rate=0.1,\n",
    "                         max_depth=2,\n",
    "                         n_estimators=300,\n",
    "                         reg_alpha= 0.5)\n",
    "\n",
    "model.fit(X_train_pca, y_train_final)\n",
    "\n",
    "# Predict using the test set\n",
    "y_pred = model.predict(X_test_submit)\n",
    "\n",
    "# save the predictions to a CSV file\n",
    "output = pd.DataFrame({'Id': X_test_submit.index+1461, 'SalePrice': y_pred})\n",
    "output.to_csv('submission.csv', index=False)\n",
    "\n",
    "print('Successfully created predictions and is saved to \"submission.csv\" file')\n"
   ]
  },
  {
   "cell_type": "code",
   "execution_count": null,
   "id": "a7e9878a",
   "metadata": {
    "execution": {
     "iopub.execute_input": "2023-02-06T01:31:42.358849Z",
     "iopub.status.busy": "2023-02-06T01:31:42.357927Z",
     "iopub.status.idle": "2023-02-06T01:31:42.363251Z",
     "shell.execute_reply": "2023-02-06T01:31:42.362453Z"
    },
    "papermill": {
     "duration": 0.027112,
     "end_time": "2023-02-06T01:31:42.366069",
     "exception": false,
     "start_time": "2023-02-06T01:31:42.338957",
     "status": "completed"
    },
    "tags": []
   },
   "outputs": [],
   "source": [
    "print(X_train_submit.shape, X_test_submit.shape)"
   ]
  },
  {
   "cell_type": "code",
   "execution_count": null,
   "id": "55aca42e",
   "metadata": {
    "execution": {
     "iopub.execute_input": "2023-02-06T01:31:42.404503Z",
     "iopub.status.busy": "2023-02-06T01:31:42.404091Z",
     "iopub.status.idle": "2023-02-06T01:31:42.413487Z",
     "shell.execute_reply": "2023-02-06T01:31:42.411948Z"
    },
    "papermill": {
     "duration": 0.03114,
     "end_time": "2023-02-06T01:31:42.416074",
     "exception": false,
     "start_time": "2023-02-06T01:31:42.384934",
     "status": "completed"
    },
    "tags": []
   },
   "outputs": [],
   "source": [
    "submission_df = pd.read_csv(\"/kaggle/working/submission.csv\")\n",
    "print(submission_df.shape)"
   ]
  },
  {
   "cell_type": "code",
   "execution_count": null,
   "id": "cd68d20f",
   "metadata": {
    "execution": {
     "iopub.execute_input": "2023-02-06T01:31:42.454265Z",
     "iopub.status.busy": "2023-02-06T01:31:42.453826Z",
     "iopub.status.idle": "2023-02-06T01:31:42.464748Z",
     "shell.execute_reply": "2023-02-06T01:31:42.463652Z"
    },
    "papermill": {
     "duration": 0.033251,
     "end_time": "2023-02-06T01:31:42.467022",
     "exception": false,
     "start_time": "2023-02-06T01:31:42.433771",
     "status": "completed"
    },
    "tags": []
   },
   "outputs": [],
   "source": [
    "submission_df.head()"
   ]
  }
 ],
 "metadata": {
  "kernelspec": {
   "display_name": "Python 3",
   "language": "python",
   "name": "python3"
  },
  "language_info": {
   "codemirror_mode": {
    "name": "ipython",
    "version": 3
   },
   "file_extension": ".py",
   "mimetype": "text/x-python",
   "name": "python",
   "nbconvert_exporter": "python",
   "pygments_lexer": "ipython3",
   "version": "3.9.13"
  },
  "papermill": {
   "default_parameters": {},
   "duration": 79.208519,
   "end_time": "2023-02-06T01:31:43.307944",
   "environment_variables": {},
   "exception": null,
   "input_path": "__notebook__.ipynb",
   "output_path": "__notebook__.ipynb",
   "parameters": {},
   "start_time": "2023-02-06T01:30:24.099425",
   "version": "2.3.4"
  }
 },
 "nbformat": 4,
 "nbformat_minor": 5
}
